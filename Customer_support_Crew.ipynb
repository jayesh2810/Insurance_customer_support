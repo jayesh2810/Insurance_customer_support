{
  "cells": [
    {
      "cell_type": "code",
      "execution_count": 1,
      "metadata": {
        "colab": {
          "base_uri": "https://localhost:8080/"
        },
        "id": "Hr_li-6xzwcb",
        "outputId": "c6ebbf2c-55c5-4798-887b-b26b5695d6b1"
      },
      "outputs": [
        {
          "name": "stdout",
          "output_type": "stream",
          "text": [
            "Requirement already satisfied: crewai==0.28.8 in ./genai_env/lib/python3.10/site-packages (0.28.8)\n",
            "Requirement already satisfied: crewai_tools==0.1.6 in ./genai_env/lib/python3.10/site-packages (0.1.6)\n",
            "Requirement already satisfied: langchain_community==0.0.29 in ./genai_env/lib/python3.10/site-packages (0.0.29)\n",
            "Requirement already satisfied: appdirs<2.0.0,>=1.4.4 in ./genai_env/lib/python3.10/site-packages (from crewai==0.28.8) (1.4.4)\n",
            "Requirement already satisfied: click<9.0.0,>=8.1.7 in ./genai_env/lib/python3.10/site-packages (from crewai==0.28.8) (8.1.7)\n",
            "Requirement already satisfied: embedchain<0.2.0,>=0.1.98 in ./genai_env/lib/python3.10/site-packages (from crewai==0.28.8) (0.1.113)\n",
            "Requirement already satisfied: instructor<0.6.0,>=0.5.2 in ./genai_env/lib/python3.10/site-packages (from crewai==0.28.8) (0.5.2)\n",
            "Requirement already satisfied: langchain<0.2.0,>=0.1.10 in ./genai_env/lib/python3.10/site-packages (from crewai==0.28.8) (0.1.13)\n",
            "Requirement already satisfied: openai<2.0.0,>=1.13.3 in ./genai_env/lib/python3.10/site-packages (from crewai==0.28.8) (1.61.1)\n",
            "Requirement already satisfied: opentelemetry-api<2.0.0,>=1.22.0 in ./genai_env/lib/python3.10/site-packages (from crewai==0.28.8) (1.30.0)\n",
            "Requirement already satisfied: opentelemetry-exporter-otlp-proto-http<2.0.0,>=1.22.0 in ./genai_env/lib/python3.10/site-packages (from crewai==0.28.8) (1.30.0)\n",
            "Requirement already satisfied: opentelemetry-sdk<2.0.0,>=1.22.0 in ./genai_env/lib/python3.10/site-packages (from crewai==0.28.8) (1.30.0)\n",
            "Requirement already satisfied: pydantic<3.0.0,>=2.4.2 in ./genai_env/lib/python3.10/site-packages (from crewai==0.28.8) (2.10.6)\n",
            "Requirement already satisfied: python-dotenv==1.0.0 in ./genai_env/lib/python3.10/site-packages (from crewai==0.28.8) (1.0.0)\n",
            "Requirement already satisfied: regex<2024.0.0,>=2023.12.25 in ./genai_env/lib/python3.10/site-packages (from crewai==0.28.8) (2023.12.25)\n",
            "Requirement already satisfied: beautifulsoup4<5.0.0,>=4.12.3 in ./genai_env/lib/python3.10/site-packages (from crewai_tools==0.1.6) (4.12.3)\n",
            "Requirement already satisfied: chromadb<0.5.0,>=0.4.22 in ./genai_env/lib/python3.10/site-packages (from crewai_tools==0.1.6) (0.4.24)\n",
            "Requirement already satisfied: lancedb<0.6.0,>=0.5.4 in ./genai_env/lib/python3.10/site-packages (from crewai_tools==0.1.6) (0.5.7)\n",
            "Requirement already satisfied: pyright<2.0.0,>=1.1.350 in ./genai_env/lib/python3.10/site-packages (from crewai_tools==0.1.6) (1.1.393)\n",
            "Requirement already satisfied: pytest<9.0.0,>=8.0.0 in ./genai_env/lib/python3.10/site-packages (from crewai_tools==0.1.6) (8.3.4)\n",
            "Requirement already satisfied: pytube<16.0.0,>=15.0.0 in ./genai_env/lib/python3.10/site-packages (from crewai_tools==0.1.6) (15.0.0)\n",
            "Requirement already satisfied: requests<3.0.0,>=2.31.0 in ./genai_env/lib/python3.10/site-packages (from crewai_tools==0.1.6) (2.32.3)\n",
            "Requirement already satisfied: selenium<5.0.0,>=4.18.1 in ./genai_env/lib/python3.10/site-packages (from crewai_tools==0.1.6) (4.28.1)\n",
            "Requirement already satisfied: PyYAML>=5.3 in ./genai_env/lib/python3.10/site-packages (from langchain_community==0.0.29) (6.0.2)\n",
            "Requirement already satisfied: SQLAlchemy<3,>=1.4 in ./genai_env/lib/python3.10/site-packages (from langchain_community==0.0.29) (2.0.37)\n",
            "Requirement already satisfied: aiohttp<4.0.0,>=3.8.3 in ./genai_env/lib/python3.10/site-packages (from langchain_community==0.0.29) (3.11.11)\n",
            "Requirement already satisfied: dataclasses-json<0.7,>=0.5.7 in ./genai_env/lib/python3.10/site-packages (from langchain_community==0.0.29) (0.6.7)\n",
            "Requirement already satisfied: langchain-core<0.2.0,>=0.1.33 in ./genai_env/lib/python3.10/site-packages (from langchain_community==0.0.29) (0.1.53)\n",
            "Requirement already satisfied: langsmith<0.2.0,>=0.1.0 in ./genai_env/lib/python3.10/site-packages (from langchain_community==0.0.29) (0.1.147)\n",
            "Requirement already satisfied: numpy<2,>=1 in ./genai_env/lib/python3.10/site-packages (from langchain_community==0.0.29) (1.26.4)\n",
            "Requirement already satisfied: tenacity<9.0.0,>=8.1.0 in ./genai_env/lib/python3.10/site-packages (from langchain_community==0.0.29) (8.5.0)\n",
            "Requirement already satisfied: aiohappyeyeballs>=2.3.0 in ./genai_env/lib/python3.10/site-packages (from aiohttp<4.0.0,>=3.8.3->langchain_community==0.0.29) (2.4.4)\n",
            "Requirement already satisfied: aiosignal>=1.1.2 in ./genai_env/lib/python3.10/site-packages (from aiohttp<4.0.0,>=3.8.3->langchain_community==0.0.29) (1.3.2)\n",
            "Requirement already satisfied: async-timeout<6.0,>=4.0 in ./genai_env/lib/python3.10/site-packages (from aiohttp<4.0.0,>=3.8.3->langchain_community==0.0.29) (4.0.3)\n",
            "Requirement already satisfied: attrs>=17.3.0 in ./genai_env/lib/python3.10/site-packages (from aiohttp<4.0.0,>=3.8.3->langchain_community==0.0.29) (25.1.0)\n",
            "Requirement already satisfied: frozenlist>=1.1.1 in ./genai_env/lib/python3.10/site-packages (from aiohttp<4.0.0,>=3.8.3->langchain_community==0.0.29) (1.5.0)\n",
            "Requirement already satisfied: multidict<7.0,>=4.5 in ./genai_env/lib/python3.10/site-packages (from aiohttp<4.0.0,>=3.8.3->langchain_community==0.0.29) (6.1.0)\n",
            "Requirement already satisfied: propcache>=0.2.0 in ./genai_env/lib/python3.10/site-packages (from aiohttp<4.0.0,>=3.8.3->langchain_community==0.0.29) (0.2.1)\n",
            "Requirement already satisfied: yarl<2.0,>=1.17.0 in ./genai_env/lib/python3.10/site-packages (from aiohttp<4.0.0,>=3.8.3->langchain_community==0.0.29) (1.18.3)\n",
            "Requirement already satisfied: soupsieve>1.2 in ./genai_env/lib/python3.10/site-packages (from beautifulsoup4<5.0.0,>=4.12.3->crewai_tools==0.1.6) (2.6)\n",
            "Requirement already satisfied: build>=1.0.3 in ./genai_env/lib/python3.10/site-packages (from chromadb<0.5.0,>=0.4.22->crewai_tools==0.1.6) (1.2.2.post1)\n",
            "Requirement already satisfied: chroma-hnswlib==0.7.3 in ./genai_env/lib/python3.10/site-packages (from chromadb<0.5.0,>=0.4.22->crewai_tools==0.1.6) (0.7.3)\n",
            "Requirement already satisfied: fastapi>=0.95.2 in ./genai_env/lib/python3.10/site-packages (from chromadb<0.5.0,>=0.4.22->crewai_tools==0.1.6) (0.115.8)\n",
            "Requirement already satisfied: uvicorn>=0.18.3 in ./genai_env/lib/python3.10/site-packages (from uvicorn[standard]>=0.18.3->chromadb<0.5.0,>=0.4.22->crewai_tools==0.1.6) (0.34.0)\n",
            "Requirement already satisfied: posthog>=2.4.0 in ./genai_env/lib/python3.10/site-packages (from chromadb<0.5.0,>=0.4.22->crewai_tools==0.1.6) (3.11.0)\n",
            "Requirement already satisfied: typing-extensions>=4.5.0 in ./genai_env/lib/python3.10/site-packages (from chromadb<0.5.0,>=0.4.22->crewai_tools==0.1.6) (4.12.2)\n",
            "Requirement already satisfied: pulsar-client>=3.1.0 in ./genai_env/lib/python3.10/site-packages (from chromadb<0.5.0,>=0.4.22->crewai_tools==0.1.6) (3.6.0)\n",
            "Requirement already satisfied: onnxruntime>=1.14.1 in ./genai_env/lib/python3.10/site-packages (from chromadb<0.5.0,>=0.4.22->crewai_tools==0.1.6) (1.20.1)\n",
            "Requirement already satisfied: opentelemetry-exporter-otlp-proto-grpc>=1.2.0 in ./genai_env/lib/python3.10/site-packages (from chromadb<0.5.0,>=0.4.22->crewai_tools==0.1.6) (1.30.0)\n",
            "Requirement already satisfied: opentelemetry-instrumentation-fastapi>=0.41b0 in ./genai_env/lib/python3.10/site-packages (from chromadb<0.5.0,>=0.4.22->crewai_tools==0.1.6) (0.51b0)\n",
            "Requirement already satisfied: tokenizers>=0.13.2 in ./genai_env/lib/python3.10/site-packages (from chromadb<0.5.0,>=0.4.22->crewai_tools==0.1.6) (0.21.0)\n",
            "Requirement already satisfied: pypika>=0.48.9 in ./genai_env/lib/python3.10/site-packages (from chromadb<0.5.0,>=0.4.22->crewai_tools==0.1.6) (0.48.9)\n",
            "Requirement already satisfied: tqdm>=4.65.0 in ./genai_env/lib/python3.10/site-packages (from chromadb<0.5.0,>=0.4.22->crewai_tools==0.1.6) (4.67.1)\n",
            "Requirement already satisfied: overrides>=7.3.1 in ./genai_env/lib/python3.10/site-packages (from chromadb<0.5.0,>=0.4.22->crewai_tools==0.1.6) (7.7.0)\n",
            "Requirement already satisfied: importlib-resources in ./genai_env/lib/python3.10/site-packages (from chromadb<0.5.0,>=0.4.22->crewai_tools==0.1.6) (6.5.2)\n",
            "Requirement already satisfied: grpcio>=1.58.0 in ./genai_env/lib/python3.10/site-packages (from chromadb<0.5.0,>=0.4.22->crewai_tools==0.1.6) (1.70.0)\n",
            "Requirement already satisfied: bcrypt>=4.0.1 in ./genai_env/lib/python3.10/site-packages (from chromadb<0.5.0,>=0.4.22->crewai_tools==0.1.6) (4.2.1)\n",
            "Requirement already satisfied: typer>=0.9.0 in ./genai_env/lib/python3.10/site-packages (from chromadb<0.5.0,>=0.4.22->crewai_tools==0.1.6) (0.9.4)\n",
            "Requirement already satisfied: kubernetes>=28.1.0 in ./genai_env/lib/python3.10/site-packages (from chromadb<0.5.0,>=0.4.22->crewai_tools==0.1.6) (32.0.0)\n",
            "Requirement already satisfied: mmh3>=4.0.1 in ./genai_env/lib/python3.10/site-packages (from chromadb<0.5.0,>=0.4.22->crewai_tools==0.1.6) (5.1.0)\n",
            "Requirement already satisfied: orjson>=3.9.12 in ./genai_env/lib/python3.10/site-packages (from chromadb<0.5.0,>=0.4.22->crewai_tools==0.1.6) (3.10.15)\n",
            "Requirement already satisfied: marshmallow<4.0.0,>=3.18.0 in ./genai_env/lib/python3.10/site-packages (from dataclasses-json<0.7,>=0.5.7->langchain_community==0.0.29) (3.26.0)\n",
            "Requirement already satisfied: typing-inspect<1,>=0.4.0 in ./genai_env/lib/python3.10/site-packages (from dataclasses-json<0.7,>=0.5.7->langchain_community==0.0.29) (0.9.0)\n",
            "Requirement already satisfied: alembic<2.0.0,>=1.13.1 in ./genai_env/lib/python3.10/site-packages (from embedchain<0.2.0,>=0.1.98->crewai==0.28.8) (1.14.1)\n",
            "Requirement already satisfied: clarifai<11.0.0,>=10.0.1 in ./genai_env/lib/python3.10/site-packages (from embedchain<0.2.0,>=0.1.98->crewai==0.28.8) (10.11.1)\n",
            "Requirement already satisfied: google-cloud-aiplatform<2.0.0,>=1.26.1 in ./genai_env/lib/python3.10/site-packages (from embedchain<0.2.0,>=0.1.98->crewai==0.28.8) (1.79.0)\n",
            "Requirement already satisfied: gptcache<0.2.0,>=0.1.43 in ./genai_env/lib/python3.10/site-packages (from embedchain<0.2.0,>=0.1.98->crewai==0.28.8) (0.1.44)\n",
            "Requirement already satisfied: langchain-cohere<0.2.0,>=0.1.4 in ./genai_env/lib/python3.10/site-packages (from embedchain<0.2.0,>=0.1.98->crewai==0.28.8) (0.1.5)\n",
            "Requirement already satisfied: langchain-openai<0.2.0,>=0.1.7 in ./genai_env/lib/python3.10/site-packages (from embedchain<0.2.0,>=0.1.98->crewai==0.28.8) (0.1.7)\n",
            "Requirement already satisfied: pypdf<5.0.0,>=4.0.1 in ./genai_env/lib/python3.10/site-packages (from embedchain<0.2.0,>=0.1.98->crewai==0.28.8) (4.3.1)\n",
            "Requirement already satisfied: pysbd<0.4.0,>=0.3.4 in ./genai_env/lib/python3.10/site-packages (from embedchain<0.2.0,>=0.1.98->crewai==0.28.8) (0.3.4)\n",
            "Requirement already satisfied: rich<14.0.0,>=13.7.0 in ./genai_env/lib/python3.10/site-packages (from embedchain<0.2.0,>=0.1.98->crewai==0.28.8) (13.9.4)\n",
            "Requirement already satisfied: schema<0.8.0,>=0.7.5 in ./genai_env/lib/python3.10/site-packages (from embedchain<0.2.0,>=0.1.98->crewai==0.28.8) (0.7.5)\n",
            "Requirement already satisfied: tiktoken<0.8.0,>=0.7.0 in ./genai_env/lib/python3.10/site-packages (from embedchain<0.2.0,>=0.1.98->crewai==0.28.8) (0.7.0)\n",
            "Requirement already satisfied: PyGithub<2.0.0,>=1.59.1 in ./genai_env/lib/python3.10/site-packages (from embedchain[github,youtube]<0.2.0,>=0.1.85->crewai_tools==0.1.6) (1.59.1)\n",
            "Requirement already satisfied: gitpython<4.0.0,>=3.1.38 in ./genai_env/lib/python3.10/site-packages (from embedchain[github,youtube]<0.2.0,>=0.1.85->crewai_tools==0.1.6) (3.1.44)\n",
            "Requirement already satisfied: youtube-transcript-api<0.7.0,>=0.6.1 in ./genai_env/lib/python3.10/site-packages (from embedchain[github,youtube]<0.2.0,>=0.1.85->crewai_tools==0.1.6) (0.6.3)\n",
            "Requirement already satisfied: yt_dlp<2024.0.0,>=2023.11.14 in ./genai_env/lib/python3.10/site-packages (from embedchain[github,youtube]<0.2.0,>=0.1.85->crewai_tools==0.1.6) (2023.12.30)\n",
            "Requirement already satisfied: docstring-parser<0.16,>=0.15 in ./genai_env/lib/python3.10/site-packages (from instructor<0.6.0,>=0.5.2->crewai==0.28.8) (0.15)\n",
            "Requirement already satisfied: deprecation in ./genai_env/lib/python3.10/site-packages (from lancedb<0.6.0,>=0.5.4->crewai_tools==0.1.6) (2.1.0)\n",
            "Requirement already satisfied: pylance==0.9.18 in ./genai_env/lib/python3.10/site-packages (from lancedb<0.6.0,>=0.5.4->crewai_tools==0.1.6) (0.9.18)\n",
            "Requirement already satisfied: ratelimiter~=1.0 in ./genai_env/lib/python3.10/site-packages (from lancedb<0.6.0,>=0.5.4->crewai_tools==0.1.6) (1.2.0.post0)\n",
            "Requirement already satisfied: retry>=0.9.2 in ./genai_env/lib/python3.10/site-packages (from lancedb<0.6.0,>=0.5.4->crewai_tools==0.1.6) (0.9.2)\n",
            "Requirement already satisfied: semver>=3.0 in ./genai_env/lib/python3.10/site-packages (from lancedb<0.6.0,>=0.5.4->crewai_tools==0.1.6) (3.0.4)\n",
            "Requirement already satisfied: cachetools in ./genai_env/lib/python3.10/site-packages (from lancedb<0.6.0,>=0.5.4->crewai_tools==0.1.6) (5.5.1)\n",
            "Requirement already satisfied: pyarrow>=12 in ./genai_env/lib/python3.10/site-packages (from pylance==0.9.18->lancedb<0.6.0,>=0.5.4->crewai_tools==0.1.6) (19.0.0)\n",
            "Requirement already satisfied: jsonpatch<2.0,>=1.33 in ./genai_env/lib/python3.10/site-packages (from langchain<0.2.0,>=0.1.10->crewai==0.28.8) (1.33)\n",
            "Requirement already satisfied: langchain-text-splitters<0.1,>=0.0.1 in ./genai_env/lib/python3.10/site-packages (from langchain<0.2.0,>=0.1.10->crewai==0.28.8) (0.0.2)\n",
            "Requirement already satisfied: packaging<24.0,>=23.2 in ./genai_env/lib/python3.10/site-packages (from langchain-core<0.2.0,>=0.1.33->langchain_community==0.0.29) (23.2)\n",
            "Requirement already satisfied: httpx<1,>=0.23.0 in ./genai_env/lib/python3.10/site-packages (from langsmith<0.2.0,>=0.1.0->langchain_community==0.0.29) (0.28.1)\n",
            "Requirement already satisfied: requests-toolbelt<2.0.0,>=1.0.0 in ./genai_env/lib/python3.10/site-packages (from langsmith<0.2.0,>=0.1.0->langchain_community==0.0.29) (1.0.0)\n",
            "Requirement already satisfied: anyio<5,>=3.5.0 in ./genai_env/lib/python3.10/site-packages (from openai<2.0.0,>=1.13.3->crewai==0.28.8) (4.8.0)\n",
            "Requirement already satisfied: distro<2,>=1.7.0 in ./genai_env/lib/python3.10/site-packages (from openai<2.0.0,>=1.13.3->crewai==0.28.8) (1.9.0)\n",
            "Requirement already satisfied: jiter<1,>=0.4.0 in ./genai_env/lib/python3.10/site-packages (from openai<2.0.0,>=1.13.3->crewai==0.28.8) (0.8.2)\n",
            "Requirement already satisfied: sniffio in ./genai_env/lib/python3.10/site-packages (from openai<2.0.0,>=1.13.3->crewai==0.28.8) (1.3.1)\n",
            "Requirement already satisfied: deprecated>=1.2.6 in ./genai_env/lib/python3.10/site-packages (from opentelemetry-api<2.0.0,>=1.22.0->crewai==0.28.8) (1.2.18)\n",
            "Requirement already satisfied: importlib-metadata<=8.5.0,>=6.0 in ./genai_env/lib/python3.10/site-packages (from opentelemetry-api<2.0.0,>=1.22.0->crewai==0.28.8) (8.5.0)\n",
            "Requirement already satisfied: googleapis-common-protos~=1.52 in ./genai_env/lib/python3.10/site-packages (from opentelemetry-exporter-otlp-proto-http<2.0.0,>=1.22.0->crewai==0.28.8) (1.66.0)\n",
            "Requirement already satisfied: opentelemetry-exporter-otlp-proto-common==1.30.0 in ./genai_env/lib/python3.10/site-packages (from opentelemetry-exporter-otlp-proto-http<2.0.0,>=1.22.0->crewai==0.28.8) (1.30.0)\n",
            "Requirement already satisfied: opentelemetry-proto==1.30.0 in ./genai_env/lib/python3.10/site-packages (from opentelemetry-exporter-otlp-proto-http<2.0.0,>=1.22.0->crewai==0.28.8) (1.30.0)\n",
            "Requirement already satisfied: protobuf<6.0,>=5.0 in ./genai_env/lib/python3.10/site-packages (from opentelemetry-proto==1.30.0->opentelemetry-exporter-otlp-proto-http<2.0.0,>=1.22.0->crewai==0.28.8) (5.29.3)\n",
            "Requirement already satisfied: opentelemetry-semantic-conventions==0.51b0 in ./genai_env/lib/python3.10/site-packages (from opentelemetry-sdk<2.0.0,>=1.22.0->crewai==0.28.8) (0.51b0)\n",
            "Requirement already satisfied: annotated-types>=0.6.0 in ./genai_env/lib/python3.10/site-packages (from pydantic<3.0.0,>=2.4.2->crewai==0.28.8) (0.7.0)\n",
            "Requirement already satisfied: pydantic-core==2.27.2 in ./genai_env/lib/python3.10/site-packages (from pydantic<3.0.0,>=2.4.2->crewai==0.28.8) (2.27.2)\n",
            "Requirement already satisfied: nodeenv>=1.6.0 in ./genai_env/lib/python3.10/site-packages (from pyright<2.0.0,>=1.1.350->crewai_tools==0.1.6) (1.9.1)\n",
            "Requirement already satisfied: exceptiongroup>=1.0.0rc8 in ./genai_env/lib/python3.10/site-packages (from pytest<9.0.0,>=8.0.0->crewai_tools==0.1.6) (1.2.2)\n",
            "Requirement already satisfied: iniconfig in ./genai_env/lib/python3.10/site-packages (from pytest<9.0.0,>=8.0.0->crewai_tools==0.1.6) (2.0.0)\n",
            "Requirement already satisfied: pluggy<2,>=1.5 in ./genai_env/lib/python3.10/site-packages (from pytest<9.0.0,>=8.0.0->crewai_tools==0.1.6) (1.5.0)\n",
            "Requirement already satisfied: tomli>=1 in ./genai_env/lib/python3.10/site-packages (from pytest<9.0.0,>=8.0.0->crewai_tools==0.1.6) (2.2.1)\n",
            "Requirement already satisfied: charset-normalizer<4,>=2 in ./genai_env/lib/python3.10/site-packages (from requests<3.0.0,>=2.31.0->crewai_tools==0.1.6) (3.4.1)\n",
            "Requirement already satisfied: idna<4,>=2.5 in ./genai_env/lib/python3.10/site-packages (from requests<3.0.0,>=2.31.0->crewai_tools==0.1.6) (3.10)\n",
            "Requirement already satisfied: urllib3<3,>=1.21.1 in ./genai_env/lib/python3.10/site-packages (from requests<3.0.0,>=2.31.0->crewai_tools==0.1.6) (2.3.0)\n",
            "Requirement already satisfied: certifi>=2017.4.17 in ./genai_env/lib/python3.10/site-packages (from requests<3.0.0,>=2.31.0->crewai_tools==0.1.6) (2025.1.31)\n",
            "Requirement already satisfied: trio~=0.17 in ./genai_env/lib/python3.10/site-packages (from selenium<5.0.0,>=4.18.1->crewai_tools==0.1.6) (0.28.0)\n",
            "Requirement already satisfied: trio-websocket~=0.9 in ./genai_env/lib/python3.10/site-packages (from selenium<5.0.0,>=4.18.1->crewai_tools==0.1.6) (0.11.1)\n",
            "Requirement already satisfied: websocket-client~=1.8 in ./genai_env/lib/python3.10/site-packages (from selenium<5.0.0,>=4.18.1->crewai_tools==0.1.6) (1.8.0)\n",
            "Requirement already satisfied: Mako in ./genai_env/lib/python3.10/site-packages (from alembic<2.0.0,>=1.13.1->embedchain<0.2.0,>=0.1.98->crewai==0.28.8) (1.3.9)\n",
            "Requirement already satisfied: pyproject_hooks in ./genai_env/lib/python3.10/site-packages (from build>=1.0.3->chromadb<0.5.0,>=0.4.22->crewai_tools==0.1.6) (1.2.0)\n",
            "Requirement already satisfied: clarifai-grpc>=10.11.2 in ./genai_env/lib/python3.10/site-packages (from clarifai<11.0.0,>=10.0.1->embedchain<0.2.0,>=0.1.98->crewai==0.28.8) (11.1.0)\n",
            "Requirement already satisfied: clarifai-protocol>=0.0.14 in ./genai_env/lib/python3.10/site-packages (from clarifai<11.0.0,>=10.0.1->embedchain<0.2.0,>=0.1.98->crewai==0.28.8) (0.0.14)\n",
            "Requirement already satisfied: tritonclient>=2.34.0 in ./genai_env/lib/python3.10/site-packages (from clarifai<11.0.0,>=10.0.1->embedchain<0.2.0,>=0.1.98->crewai==0.28.8) (2.54.0)\n",
            "Requirement already satisfied: Pillow>=9.5.0 in ./genai_env/lib/python3.10/site-packages (from clarifai<11.0.0,>=10.0.1->embedchain<0.2.0,>=0.1.98->crewai==0.28.8) (11.1.0)\n",
            "Requirement already satisfied: inquirerpy==0.3.4 in ./genai_env/lib/python3.10/site-packages (from clarifai<11.0.0,>=10.0.1->embedchain<0.2.0,>=0.1.98->crewai==0.28.8) (0.3.4)\n",
            "Requirement already satisfied: tabulate>=0.9.0 in ./genai_env/lib/python3.10/site-packages (from clarifai<11.0.0,>=10.0.1->embedchain<0.2.0,>=0.1.98->crewai==0.28.8) (0.9.0)\n",
            "Requirement already satisfied: fsspec==2024.6.1 in ./genai_env/lib/python3.10/site-packages (from clarifai<11.0.0,>=10.0.1->embedchain<0.2.0,>=0.1.98->crewai==0.28.8) (2024.6.1)\n",
            "Requirement already satisfied: contextlib2>=0.5.5 in ./genai_env/lib/python3.10/site-packages (from schema<0.8.0,>=0.7.5->embedchain<0.2.0,>=0.1.98->crewai==0.28.8) (21.6.0)\n",
            "Requirement already satisfied: pfzy<0.4.0,>=0.3.1 in ./genai_env/lib/python3.10/site-packages (from inquirerpy==0.3.4->clarifai<11.0.0,>=10.0.1->embedchain<0.2.0,>=0.1.98->crewai==0.28.8) (0.3.4)\n",
            "Requirement already satisfied: prompt-toolkit<4.0.0,>=3.0.1 in ./genai_env/lib/python3.10/site-packages (from inquirerpy==0.3.4->clarifai<11.0.0,>=10.0.1->embedchain<0.2.0,>=0.1.98->crewai==0.28.8) (3.0.50)\n",
            "Requirement already satisfied: wrapt<2,>=1.10 in ./genai_env/lib/python3.10/site-packages (from deprecated>=1.2.6->opentelemetry-api<2.0.0,>=1.22.0->crewai==0.28.8) (1.17.2)\n",
            "Requirement already satisfied: starlette<0.46.0,>=0.40.0 in ./genai_env/lib/python3.10/site-packages (from fastapi>=0.95.2->chromadb<0.5.0,>=0.4.22->crewai_tools==0.1.6) (0.45.3)\n",
            "Requirement already satisfied: gitdb<5,>=4.0.1 in ./genai_env/lib/python3.10/site-packages (from gitpython<4.0.0,>=3.1.38->embedchain[github,youtube]<0.2.0,>=0.1.85->crewai_tools==0.1.6) (4.0.12)\n",
            "Requirement already satisfied: google-api-core!=2.0.*,!=2.1.*,!=2.2.*,!=2.3.*,!=2.4.*,!=2.5.*,!=2.6.*,!=2.7.*,<3.0.0dev,>=1.34.1 in ./genai_env/lib/python3.10/site-packages (from google-api-core[grpc]!=2.0.*,!=2.1.*,!=2.2.*,!=2.3.*,!=2.4.*,!=2.5.*,!=2.6.*,!=2.7.*,<3.0.0dev,>=1.34.1->google-cloud-aiplatform<2.0.0,>=1.26.1->embedchain<0.2.0,>=0.1.98->crewai==0.28.8) (2.24.1)\n",
            "Requirement already satisfied: google-auth<3.0.0dev,>=2.14.1 in ./genai_env/lib/python3.10/site-packages (from google-cloud-aiplatform<2.0.0,>=1.26.1->embedchain<0.2.0,>=0.1.98->crewai==0.28.8) (2.38.0)\n",
            "Requirement already satisfied: proto-plus<2.0.0dev,>=1.22.3 in ./genai_env/lib/python3.10/site-packages (from google-cloud-aiplatform<2.0.0,>=1.26.1->embedchain<0.2.0,>=0.1.98->crewai==0.28.8) (1.26.0)\n",
            "Requirement already satisfied: google-cloud-storage<3.0.0dev,>=1.32.0 in ./genai_env/lib/python3.10/site-packages (from google-cloud-aiplatform<2.0.0,>=1.26.1->embedchain<0.2.0,>=0.1.98->crewai==0.28.8) (2.19.0)\n",
            "Requirement already satisfied: google-cloud-bigquery!=3.20.0,<4.0.0dev,>=1.15.0 in ./genai_env/lib/python3.10/site-packages (from google-cloud-aiplatform<2.0.0,>=1.26.1->embedchain<0.2.0,>=0.1.98->crewai==0.28.8) (3.29.0)\n",
            "Requirement already satisfied: google-cloud-resource-manager<3.0.0dev,>=1.3.3 in ./genai_env/lib/python3.10/site-packages (from google-cloud-aiplatform<2.0.0,>=1.26.1->embedchain<0.2.0,>=0.1.98->crewai==0.28.8) (1.14.0)\n",
            "Requirement already satisfied: shapely<3.0.0dev in ./genai_env/lib/python3.10/site-packages (from google-cloud-aiplatform<2.0.0,>=1.26.1->embedchain<0.2.0,>=0.1.98->crewai==0.28.8) (2.0.7)\n",
            "Requirement already satisfied: httpcore==1.* in ./genai_env/lib/python3.10/site-packages (from httpx<1,>=0.23.0->langsmith<0.2.0,>=0.1.0->langchain_community==0.0.29) (1.0.7)\n",
            "Requirement already satisfied: h11<0.15,>=0.13 in ./genai_env/lib/python3.10/site-packages (from httpcore==1.*->httpx<1,>=0.23.0->langsmith<0.2.0,>=0.1.0->langchain_community==0.0.29) (0.14.0)\n",
            "Requirement already satisfied: zipp>=3.20 in ./genai_env/lib/python3.10/site-packages (from importlib-metadata<=8.5.0,>=6.0->opentelemetry-api<2.0.0,>=1.22.0->crewai==0.28.8) (3.21.0)\n",
            "Requirement already satisfied: jsonpointer>=1.9 in ./genai_env/lib/python3.10/site-packages (from jsonpatch<2.0,>=1.33->langchain<0.2.0,>=0.1.10->crewai==0.28.8) (3.0.0)\n",
            "Requirement already satisfied: six>=1.9.0 in ./genai_env/lib/python3.10/site-packages (from kubernetes>=28.1.0->chromadb<0.5.0,>=0.4.22->crewai_tools==0.1.6) (1.17.0)\n",
            "Requirement already satisfied: python-dateutil>=2.5.3 in ./genai_env/lib/python3.10/site-packages (from kubernetes>=28.1.0->chromadb<0.5.0,>=0.4.22->crewai_tools==0.1.6) (2.9.0.post0)\n",
            "Requirement already satisfied: requests-oauthlib in ./genai_env/lib/python3.10/site-packages (from kubernetes>=28.1.0->chromadb<0.5.0,>=0.4.22->crewai_tools==0.1.6) (2.0.0)\n",
            "Requirement already satisfied: oauthlib>=3.2.2 in ./genai_env/lib/python3.10/site-packages (from kubernetes>=28.1.0->chromadb<0.5.0,>=0.4.22->crewai_tools==0.1.6) (3.2.2)\n",
            "Requirement already satisfied: durationpy>=0.7 in ./genai_env/lib/python3.10/site-packages (from kubernetes>=28.1.0->chromadb<0.5.0,>=0.4.22->crewai_tools==0.1.6) (0.9)\n",
            "Requirement already satisfied: cohere<6.0,>=5.5 in ./genai_env/lib/python3.10/site-packages (from langchain-cohere<0.2.0,>=0.1.4->embedchain<0.2.0,>=0.1.98->crewai==0.28.8) (5.13.12)\n",
            "Requirement already satisfied: coloredlogs in ./genai_env/lib/python3.10/site-packages (from onnxruntime>=1.14.1->chromadb<0.5.0,>=0.4.22->crewai_tools==0.1.6) (15.0.1)\n",
            "Requirement already satisfied: flatbuffers in ./genai_env/lib/python3.10/site-packages (from onnxruntime>=1.14.1->chromadb<0.5.0,>=0.4.22->crewai_tools==0.1.6) (25.1.24)\n",
            "Requirement already satisfied: sympy in ./genai_env/lib/python3.10/site-packages (from onnxruntime>=1.14.1->chromadb<0.5.0,>=0.4.22->crewai_tools==0.1.6) (1.13.1)\n",
            "Requirement already satisfied: opentelemetry-instrumentation-asgi==0.51b0 in ./genai_env/lib/python3.10/site-packages (from opentelemetry-instrumentation-fastapi>=0.41b0->chromadb<0.5.0,>=0.4.22->crewai_tools==0.1.6) (0.51b0)\n",
            "Requirement already satisfied: opentelemetry-instrumentation==0.51b0 in ./genai_env/lib/python3.10/site-packages (from opentelemetry-instrumentation-fastapi>=0.41b0->chromadb<0.5.0,>=0.4.22->crewai_tools==0.1.6) (0.51b0)\n",
            "Requirement already satisfied: opentelemetry-util-http==0.51b0 in ./genai_env/lib/python3.10/site-packages (from opentelemetry-instrumentation-fastapi>=0.41b0->chromadb<0.5.0,>=0.4.22->crewai_tools==0.1.6) (0.51b0)\n",
            "Requirement already satisfied: asgiref~=3.0 in ./genai_env/lib/python3.10/site-packages (from opentelemetry-instrumentation-asgi==0.51b0->opentelemetry-instrumentation-fastapi>=0.41b0->chromadb<0.5.0,>=0.4.22->crewai_tools==0.1.6) (3.8.1)\n",
            "Requirement already satisfied: monotonic>=1.5 in ./genai_env/lib/python3.10/site-packages (from posthog>=2.4.0->chromadb<0.5.0,>=0.4.22->crewai_tools==0.1.6) (1.6)\n",
            "Requirement already satisfied: backoff>=1.10.0 in ./genai_env/lib/python3.10/site-packages (from posthog>=2.4.0->chromadb<0.5.0,>=0.4.22->crewai_tools==0.1.6) (2.2.1)\n",
            "Requirement already satisfied: pyjwt>=2.4.0 in ./genai_env/lib/python3.10/site-packages (from pyjwt[crypto]>=2.4.0->PyGithub<2.0.0,>=1.59.1->embedchain[github,youtube]<0.2.0,>=0.1.85->crewai_tools==0.1.6) (2.10.1)\n",
            "Requirement already satisfied: pynacl>=1.4.0 in ./genai_env/lib/python3.10/site-packages (from PyGithub<2.0.0,>=1.59.1->embedchain[github,youtube]<0.2.0,>=0.1.85->crewai_tools==0.1.6) (1.5.0)\n",
            "Requirement already satisfied: decorator>=3.4.2 in ./genai_env/lib/python3.10/site-packages (from retry>=0.9.2->lancedb<0.6.0,>=0.5.4->crewai_tools==0.1.6) (5.1.1)\n",
            "Requirement already satisfied: py<2.0.0,>=1.4.26 in ./genai_env/lib/python3.10/site-packages (from retry>=0.9.2->lancedb<0.6.0,>=0.5.4->crewai_tools==0.1.6) (1.11.0)\n",
            "Requirement already satisfied: markdown-it-py>=2.2.0 in ./genai_env/lib/python3.10/site-packages (from rich<14.0.0,>=13.7.0->embedchain<0.2.0,>=0.1.98->crewai==0.28.8) (3.0.0)\n",
            "Requirement already satisfied: pygments<3.0.0,>=2.13.0 in ./genai_env/lib/python3.10/site-packages (from rich<14.0.0,>=13.7.0->embedchain<0.2.0,>=0.1.98->crewai==0.28.8) (2.19.1)\n",
            "Requirement already satisfied: huggingface-hub<1.0,>=0.16.4 in ./genai_env/lib/python3.10/site-packages (from tokenizers>=0.13.2->chromadb<0.5.0,>=0.4.22->crewai_tools==0.1.6) (0.28.1)\n",
            "Requirement already satisfied: sortedcontainers in ./genai_env/lib/python3.10/site-packages (from trio~=0.17->selenium<5.0.0,>=4.18.1->crewai_tools==0.1.6) (2.4.0)\n",
            "Requirement already satisfied: outcome in ./genai_env/lib/python3.10/site-packages (from trio~=0.17->selenium<5.0.0,>=4.18.1->crewai_tools==0.1.6) (1.3.0.post0)\n",
            "Requirement already satisfied: wsproto>=0.14 in ./genai_env/lib/python3.10/site-packages (from trio-websocket~=0.9->selenium<5.0.0,>=4.18.1->crewai_tools==0.1.6) (1.2.0)\n",
            "Requirement already satisfied: mypy-extensions>=0.3.0 in ./genai_env/lib/python3.10/site-packages (from typing-inspect<1,>=0.4.0->dataclasses-json<0.7,>=0.5.7->langchain_community==0.0.29) (1.0.0)\n",
            "Requirement already satisfied: pysocks!=1.5.7,<2.0,>=1.5.6 in ./genai_env/lib/python3.10/site-packages (from urllib3[socks]<3,>=1.26->selenium<5.0.0,>=4.18.1->crewai_tools==0.1.6) (1.7.1)\n",
            "Requirement already satisfied: httptools>=0.6.3 in ./genai_env/lib/python3.10/site-packages (from uvicorn[standard]>=0.18.3->chromadb<0.5.0,>=0.4.22->crewai_tools==0.1.6) (0.6.4)\n",
            "Requirement already satisfied: uvloop!=0.15.0,!=0.15.1,>=0.14.0 in ./genai_env/lib/python3.10/site-packages (from uvicorn[standard]>=0.18.3->chromadb<0.5.0,>=0.4.22->crewai_tools==0.1.6) (0.21.0)\n",
            "Requirement already satisfied: watchfiles>=0.13 in ./genai_env/lib/python3.10/site-packages (from uvicorn[standard]>=0.18.3->chromadb<0.5.0,>=0.4.22->crewai_tools==0.1.6) (1.0.4)\n",
            "Requirement already satisfied: websockets>=10.4 in ./genai_env/lib/python3.10/site-packages (from uvicorn[standard]>=0.18.3->chromadb<0.5.0,>=0.4.22->crewai_tools==0.1.6) (14.2)\n",
            "Requirement already satisfied: defusedxml<0.8.0,>=0.7.1 in ./genai_env/lib/python3.10/site-packages (from youtube-transcript-api<0.7.0,>=0.6.1->embedchain[github,youtube]<0.2.0,>=0.1.85->crewai_tools==0.1.6) (0.7.1)\n",
            "Requirement already satisfied: mutagen in ./genai_env/lib/python3.10/site-packages (from yt_dlp<2024.0.0,>=2023.11.14->embedchain[github,youtube]<0.2.0,>=0.1.85->crewai_tools==0.1.6) (1.47.0)\n",
            "Requirement already satisfied: pycryptodomex in ./genai_env/lib/python3.10/site-packages (from yt_dlp<2024.0.0,>=2023.11.14->embedchain[github,youtube]<0.2.0,>=0.1.85->crewai_tools==0.1.6) (3.21.0)\n",
            "Requirement already satisfied: brotli in ./genai_env/lib/python3.10/site-packages (from yt_dlp<2024.0.0,>=2023.11.14->embedchain[github,youtube]<0.2.0,>=0.1.85->crewai_tools==0.1.6) (1.1.0)\n",
            "Requirement already satisfied: fastavro<2.0.0,>=1.9.4 in ./genai_env/lib/python3.10/site-packages (from cohere<6.0,>=5.5->langchain-cohere<0.2.0,>=0.1.4->embedchain<0.2.0,>=0.1.98->crewai==0.28.8) (1.10.0)\n",
            "Requirement already satisfied: httpx-sse==0.4.0 in ./genai_env/lib/python3.10/site-packages (from cohere<6.0,>=5.5->langchain-cohere<0.2.0,>=0.1.4->embedchain<0.2.0,>=0.1.98->crewai==0.28.8) (0.4.0)\n",
            "Requirement already satisfied: types-requests<3.0.0,>=2.0.0 in ./genai_env/lib/python3.10/site-packages (from cohere<6.0,>=5.5->langchain-cohere<0.2.0,>=0.1.4->embedchain<0.2.0,>=0.1.98->crewai==0.28.8) (2.32.0.20241016)\n",
            "Requirement already satisfied: smmap<6,>=3.0.1 in ./genai_env/lib/python3.10/site-packages (from gitdb<5,>=4.0.1->gitpython<4.0.0,>=3.1.38->embedchain[github,youtube]<0.2.0,>=0.1.85->crewai_tools==0.1.6) (5.0.2)\n",
            "Requirement already satisfied: grpcio-status<2.0.dev0,>=1.33.2 in ./genai_env/lib/python3.10/site-packages (from google-api-core[grpc]!=2.0.*,!=2.1.*,!=2.2.*,!=2.3.*,!=2.4.*,!=2.5.*,!=2.6.*,!=2.7.*,<3.0.0dev,>=1.34.1->google-cloud-aiplatform<2.0.0,>=1.26.1->embedchain<0.2.0,>=0.1.98->crewai==0.28.8) (1.70.0)\n",
            "Requirement already satisfied: pyasn1-modules>=0.2.1 in ./genai_env/lib/python3.10/site-packages (from google-auth<3.0.0dev,>=2.14.1->google-cloud-aiplatform<2.0.0,>=1.26.1->embedchain<0.2.0,>=0.1.98->crewai==0.28.8) (0.4.1)\n",
            "Requirement already satisfied: rsa<5,>=3.1.4 in ./genai_env/lib/python3.10/site-packages (from google-auth<3.0.0dev,>=2.14.1->google-cloud-aiplatform<2.0.0,>=1.26.1->embedchain<0.2.0,>=0.1.98->crewai==0.28.8) (4.9)\n",
            "Requirement already satisfied: google-cloud-core<3.0.0dev,>=2.4.1 in ./genai_env/lib/python3.10/site-packages (from google-cloud-bigquery!=3.20.0,<4.0.0dev,>=1.15.0->google-cloud-aiplatform<2.0.0,>=1.26.1->embedchain<0.2.0,>=0.1.98->crewai==0.28.8) (2.4.1)\n",
            "Requirement already satisfied: google-resumable-media<3.0dev,>=2.0.0 in ./genai_env/lib/python3.10/site-packages (from google-cloud-bigquery!=3.20.0,<4.0.0dev,>=1.15.0->google-cloud-aiplatform<2.0.0,>=1.26.1->embedchain<0.2.0,>=0.1.98->crewai==0.28.8) (2.7.2)\n",
            "Requirement already satisfied: grpc-google-iam-v1<1.0.0dev,>=0.12.4 in ./genai_env/lib/python3.10/site-packages (from google-cloud-resource-manager<3.0.0dev,>=1.3.3->google-cloud-aiplatform<2.0.0,>=1.26.1->embedchain<0.2.0,>=0.1.98->crewai==0.28.8) (0.14.0)\n",
            "Requirement already satisfied: google-crc32c<2.0dev,>=1.0 in ./genai_env/lib/python3.10/site-packages (from google-cloud-storage<3.0.0dev,>=1.32.0->google-cloud-aiplatform<2.0.0,>=1.26.1->embedchain<0.2.0,>=0.1.98->crewai==0.28.8) (1.6.0)\n",
            "Requirement already satisfied: filelock in ./genai_env/lib/python3.10/site-packages (from huggingface-hub<1.0,>=0.16.4->tokenizers>=0.13.2->chromadb<0.5.0,>=0.4.22->crewai_tools==0.1.6) (3.17.0)\n",
            "Requirement already satisfied: mdurl~=0.1 in ./genai_env/lib/python3.10/site-packages (from markdown-it-py>=2.2.0->rich<14.0.0,>=13.7.0->embedchain<0.2.0,>=0.1.98->crewai==0.28.8) (0.1.2)\n",
            "Requirement already satisfied: cryptography>=3.4.0 in ./genai_env/lib/python3.10/site-packages (from pyjwt[crypto]>=2.4.0->PyGithub<2.0.0,>=1.59.1->embedchain[github,youtube]<0.2.0,>=0.1.85->crewai_tools==0.1.6) (44.0.0)\n",
            "Requirement already satisfied: cffi>=1.4.1 in ./genai_env/lib/python3.10/site-packages (from pynacl>=1.4.0->PyGithub<2.0.0,>=1.59.1->embedchain[github,youtube]<0.2.0,>=0.1.85->crewai_tools==0.1.6) (1.17.1)\n",
            "Requirement already satisfied: python-rapidjson>=0.9.1 in ./genai_env/lib/python3.10/site-packages (from tritonclient>=2.34.0->clarifai<11.0.0,>=10.0.1->embedchain<0.2.0,>=0.1.98->crewai==0.28.8) (1.20)\n",
            "Requirement already satisfied: humanfriendly>=9.1 in ./genai_env/lib/python3.10/site-packages (from coloredlogs->onnxruntime>=1.14.1->chromadb<0.5.0,>=0.4.22->crewai_tools==0.1.6) (10.0)\n",
            "Requirement already satisfied: MarkupSafe>=0.9.2 in ./genai_env/lib/python3.10/site-packages (from Mako->alembic<2.0.0,>=1.13.1->embedchain<0.2.0,>=0.1.98->crewai==0.28.8) (3.0.2)\n",
            "Requirement already satisfied: mpmath<1.4,>=1.1.0 in ./genai_env/lib/python3.10/site-packages (from sympy->onnxruntime>=1.14.1->chromadb<0.5.0,>=0.4.22->crewai_tools==0.1.6) (1.3.0)\n",
            "Requirement already satisfied: pycparser in ./genai_env/lib/python3.10/site-packages (from cffi>=1.4.1->pynacl>=1.4.0->PyGithub<2.0.0,>=1.59.1->embedchain[github,youtube]<0.2.0,>=0.1.85->crewai_tools==0.1.6) (2.22)\n",
            "Requirement already satisfied: wcwidth in ./genai_env/lib/python3.10/site-packages (from prompt-toolkit<4.0.0,>=3.0.1->inquirerpy==0.3.4->clarifai<11.0.0,>=10.0.1->embedchain<0.2.0,>=0.1.98->crewai==0.28.8) (0.2.13)\n",
            "Requirement already satisfied: pyasn1<0.7.0,>=0.4.6 in ./genai_env/lib/python3.10/site-packages (from pyasn1-modules>=0.2.1->google-auth<3.0.0dev,>=2.14.1->google-cloud-aiplatform<2.0.0,>=1.26.1->embedchain<0.2.0,>=0.1.98->crewai==0.28.8) (0.6.1)\n"
          ]
        }
      ],
      "source": [
        "!pip install crewai==0.28.8 crewai_tools==0.1.6 langchain_community==0.0.29"
      ]
    },
    {
      "cell_type": "code",
      "execution_count": 15,
      "metadata": {
        "height": 64,
        "id": "_LQ5_lop4KJq"
      },
      "outputs": [],
      "source": [
        "# Warning control\n",
        "import warnings\n",
        "warnings.filterwarnings('ignore')"
      ]
    },
    {
      "cell_type": "code",
      "execution_count": 16,
      "metadata": {
        "height": 30,
        "id": "VoWxqMK8zkvP"
      },
      "outputs": [],
      "source": [
        "from crewai import Agent, Task, Crew"
      ]
    },
    {
      "cell_type": "code",
      "execution_count": null,
      "metadata": {
        "height": 98,
        "id": "37yYHAGezkvP"
      },
      "outputs": [],
      "source": [
        "import os\n",
        "from google.colab import userdata\n",
        "\n",
        "openai_api_key = userdata.get(\"OPENAI_API_KEY\")\n",
        "os.environ[\"OPENAI_API_KEY\"] = openai_api_key\n",
        "os.environ[\"OPENAI_MODEL_NAME\"] = 'gpt-4o-mini'"
      ]
    },
    {
      "cell_type": "code",
      "execution_count": 37,
      "metadata": {},
      "outputs": [],
      "source": [
        "from dotenv import load_dotenv\n",
        "import os\n",
        "\n",
        "# Load environment variables from .env file\n",
        "load_dotenv()\n",
        "\n",
        "openai_api_key = os.getenv('OPENAI_API_KEY')\n",
        "os.environ[\"OPENAI_API_KEY\"] = openai_api_key\n",
        "os.environ[\"OPENAI_MODEL_NAME\"] = 'gpt-4o-mini'"
      ]
    },
    {
      "cell_type": "markdown",
      "metadata": {
        "id": "YjYs6EskzkvP"
      },
      "source": [
        "## Role Playing, Focus and Cooperation"
      ]
    },
    {
      "cell_type": "code",
      "execution_count": 38,
      "metadata": {
        "height": 285,
        "id": "o0QhL3D0zkvP"
      },
      "outputs": [],
      "source": [
        "support_agent = Agent(\n",
        "    role=\"Senior Support Representative\",\n",
        "\tgoal=\"Be the most friendly and helpful \"\n",
        "        \"support representative in your team\",\n",
        "\tbackstory=(\n",
        "\t\t\"You work at Niva Bupa Insurance Agency and \"\n",
        "        \" are now working on providing \"\n",
        "\t\t\"support to {customer}, a super important customer \"\n",
        "        \" for your company.\"\n",
        "\t\t\"You need to make sure that you provide the best support!\"\n",
        "\t\t\"Make sure to provide full complete answers, \"\n",
        "        \" and make no assumptions.\"\n",
        "\t),\n",
        "\tallow_delegation=False,\n",
        "\tverbose=True\n",
        ")"
      ]
    },
    {
      "cell_type": "code",
      "execution_count": 39,
      "metadata": {
        "height": 285,
        "id": "gwvyTqarzkvQ"
      },
      "outputs": [],
      "source": [
        "support_quality_assurance_agent = Agent(\n",
        "\trole=\"Support Quality Assurance Specialist\",\n",
        "\tgoal=\"Get recognition for providing the \"\n",
        "    \"best support quality assurance in your team\",\n",
        "\tbackstory=(\n",
        "\t\t\"You work at Niva Bupa Insurance Agency and \"\n",
        "        \"are now working with your team \"\n",
        "\t\t\"on a request from {customer} ensuring that \"\n",
        "        \"the support representative is \"\n",
        "\t\t\"providing the best support possible.\\n\"\n",
        "\t\t\"You need to make sure that the support representative \"\n",
        "        \"is providing full\"\n",
        "\t\t\"complete answers, and make no assumptions.\"\n",
        "\t),\n",
        "\tverbose=True\n",
        ")"
      ]
    },
    {
      "cell_type": "markdown",
      "metadata": {
        "id": "ICs_ntqCzkvQ"
      },
      "source": [
        "* **Role Playing**: Both agents have been given a role, goal and backstory.\n",
        "* **Focus**: Both agents have been prompted to get into the character of the roles they are playing.\n",
        "* **Cooperation**: Support Quality Assurance Agent can delegate work back to the Support Agent, allowing for these agents to work together."
      ]
    },
    {
      "cell_type": "markdown",
      "metadata": {
        "id": "5--QdoTbzkvR"
      },
      "source": [
        "## Tools, Guardrails and Memory\n",
        "\n",
        "### Tools"
      ]
    },
    {
      "cell_type": "markdown",
      "metadata": {
        "id": "HUVqk_9azkvR"
      },
      "source": [
        "- Import CrewAI tools"
      ]
    },
    {
      "cell_type": "code",
      "execution_count": 22,
      "metadata": {
        "height": 64,
        "id": "p3BN09SYzkvR"
      },
      "outputs": [],
      "source": [
        "from crewai_tools import SerperDevTool, \\\n",
        "                         ScrapeWebsiteTool, \\\n",
        "                         WebsiteSearchTool"
      ]
    },
    {
      "cell_type": "code",
      "execution_count": 23,
      "metadata": {
        "height": 64,
        "id": "11RE35yvzkvS"
      },
      "outputs": [],
      "source": [
        "docs_scrape_tool = ScrapeWebsiteTool(\n",
        "    website_url=\"https://www.nivabupa.com/travel-insurance.html\"\n",
        ")"
      ]
    },
    {
      "cell_type": "code",
      "execution_count": 40,
      "metadata": {
        "height": 421,
        "id": "XtJ5m47jzkvT"
      },
      "outputs": [],
      "source": [
        "inquiry_resolution = Task(\n",
        "    description=(\n",
        "        \"{customer} just reached out with a super important ask:\\n\"\n",
        "\t    \"{inquiry}\\n\\n\"\n",
        "        \"{person} from {customer} is the one that reached out. \"\n",
        "\t\t\"Make sure to use everything you know \"\n",
        "        \"to provide the best support possible.\"\n",
        "\t\t\"You must strive to provide a complete \"\n",
        "        \"and accurate response to the customer's inquiry.\"\n",
        "    ),\n",
        "    expected_output=(\n",
        "\t    \"A detailed, informative response to the \"\n",
        "        \"customer's inquiry that addresses \"\n",
        "        \"all aspects of their question.\\n\"\n",
        "        \"The response should include references \"\n",
        "        \"to everything you used to find the answer, \"\n",
        "        \"including external data or solutions. \"\n",
        "        \"Ensure the answer is complete, \"\n",
        "\t\t\"leaving no questions unanswered, and maintain a helpful and friendly \"\n",
        "\t\t\"tone throughout.\"\n",
        "    ),\n",
        "\ttools=[docs_scrape_tool],\n",
        "    agent=support_agent,\n",
        ")"
      ]
    },
    {
      "cell_type": "code",
      "execution_count": 41,
      "metadata": {
        "height": 438,
        "id": "sfXlh8-uzkvT"
      },
      "outputs": [],
      "source": [
        "quality_assurance_review = Task(\n",
        "    description=(\n",
        "        \"Review the response drafted by the Senior Support Representative for {customer}'s inquiry. \"\n",
        "        \"Ensure that the answer is comprehensive, accurate, and adheres to the \"\n",
        "\t\t\"high-quality standards expected for customer support.\\n\"\n",
        "        \"Verify that all parts of the customer's inquiry \"\n",
        "        \"have been addressed \"\n",
        "\t\t\"thoroughly, with a helpful and friendly tone.\\n\"\n",
        "        \"Check for references and sources used to \"\n",
        "        \" find the information, \"\n",
        "\t\t\"ensuring the response is well-supported and \"\n",
        "        \"leaves no questions unanswered.\"\n",
        "    ),\n",
        "    expected_output=(\n",
        "        \"A final, detailed, and informative response \"\n",
        "        \"ready to be sent to the customer.\\n\"\n",
        "        \"This response should fully address the \"\n",
        "        \"customer's inquiry, incorporating all \"\n",
        "\t\t\"relevant feedback and improvements.\\n\"\n",
        "\t\t\"Don't be too formal, we are a chill and cool company \"\n",
        "\t    \"but maintain a professional and friendly tone throughout.\"\n",
        "    ),\n",
        "    agent=support_quality_assurance_agent,\n",
        ")\n"
      ]
    },
    {
      "cell_type": "markdown",
      "metadata": {
        "id": "hLpzUTbJzkvT"
      },
      "source": [
        "# Creating the Crew"
      ]
    },
    {
      "cell_type": "code",
      "execution_count": 42,
      "metadata": {
        "height": 115,
        "id": "yB1s3w5bzkvT"
      },
      "outputs": [
        {
          "name": "stderr",
          "output_type": "stream",
          "text": [
            "2025-02-13 08:04:02,463 - 7955664896 - __init__.py-__init__:537 - WARNING: Overriding of current TracerProvider is not allowed\n"
          ]
        }
      ],
      "source": [
        "crew = Crew(\n",
        "  agents=[support_agent, support_quality_assurance_agent],\n",
        "  tasks=[inquiry_resolution, quality_assurance_review],\n",
        "  verbose=True,\n",
        "  memory=True\n",
        ")"
      ]
    },
    {
      "cell_type": "code",
      "execution_count": 43,
      "metadata": {
        "colab": {
          "base_uri": "https://localhost:8080/"
        },
        "height": 166,
        "id": "ultV4Wj5zkvU",
        "outputId": "a3b3260a-55fe-4273-9eea-a56ff70aceca"
      },
      "outputs": [
        {
          "name": "stdout",
          "output_type": "stream",
          "text": [
            "\u001b[1m\u001b[95m# Agent:\u001b[00m \u001b[1m\u001b[92mSenior Support Representative\u001b[00m\n",
            "\u001b[95m## Task:\u001b[00m \u001b[92mVettura.ai just reached out with a super important ask:\n",
            "Hey I am travelling to Japan for a conferencefrom 22nd to 27 Februray. How can I get a travel insurance? Can I cancel if my trip gets cancelled?\n",
            "\n",
            "Ashish Sahani from Vettura.ai is the one that reached out. Make sure to use everything you know to provide the best support possible.You must strive to provide a complete and accurate response to the customer's inquiry.\u001b[00m\n",
            "\n",
            "\n",
            "\u001b[1m\u001b[95m# Agent:\u001b[00m \u001b[1m\u001b[92mSenior Support Representative\u001b[00m\n",
            "\u001b[95m## Thought:\u001b[00m \u001b[92mI need to gather detailed information about the travel insurance options available through Niva Bupa, including how to obtain it and the specifics related to trip cancellation.\u001b[00m\n",
            "\u001b[95m## Using tool:\u001b[00m \u001b[92mRead website content\u001b[00m\n",
            "\u001b[95m## Tool Input:\u001b[00m \u001b[92m\n",
            "\"{}\"\u001b[00m\n",
            "\u001b[95m## Tool Output:\u001b[00m \u001b[92m\n",
            "Buy Travel Insurance Plans Online in India 2024 | Niva Bupa × Hospital Network Live Well Chat with Us Become An Agent For a New Policy 1800-309-3333 Customer Helpline 1860-500-8888 Become An Agent Claim Renew Health Insurance Travel Insurance Corporate Insurance Customer Service Buy Claim Renew Customer Service Get your Travel Insurance today Enter your mobile number By clicking Get Started, you authorize Niva Bupa to call/SMS on your registered mobile number and also consent to override your existing registry in DNCR. Further, you agree to get quote and policy details on WhatsApp. Get Started Trip Cancellation Coverage for financial loss incurred due to cancellation of trip before its onset Emergency in-patient Medical treatment Covered up to sum snsured Destination Specific Plans Separate plans for Asia Pacific region, Europe, USA & Canada and worldwide Hospital daily cash allowance Up to $50/day Download Resources TravelAssure Brochure Download the brochure to understand TravelAssure better TravelAssure Policy Wordings Find out all you need to know about the plan here TravelAssure Claim Form Download the form to make a hassle-free claim TravelAssure Application Form Download the form to avail the services of any of our network hospitals What is Travel Insurance? Travel insurance is a type of insurance that is custom-made for people going on domestic and international travels. It addresses the various risks that one may face during travels, including hospitalisation, medical expenses, loss of luggage or documents, cancellation or disruption of flights, and various other costs.\n",
            "Travel insurance covers you from the date of departure till your arrival back at the place of origin. For frequent fliers, a travel plan that remains effective for a certain period is more suitable as it covers multiple travels during the policy period. How to Buy Travel Insurance Plan? You can buy a travel insurance policy online or by visiting the insurer’s office. While applying online, you need to fill in the basic details like dates of travel, traveler details, coverage required, etc. Then you receive the quote, based on which you can select the travel insurance policy that suits your requirement.\n",
            "There are different types of travel plans customized for different travel needs. These include corporate, single, family, senior citizen, or student travel plans. You can purchase a travel plan that suits you the best.\n",
            "You can also buy travel insurance plans from insurance brokers and agents. However, ensure that they are licensed by the Insurance Regulatory and Development Authority of India. It is worth noting that you may be eligible for discounts if you buy a travel insurance plan online directly from the insurer. Why choose Niva Bupa Travel Insurance Policy? Niva Bupa is one of the leading insurance providers in India, offering unique and comprehensive policies which cover the diverse needs of Indian travellers. With coverage for dozens of risks, Niva Bupa’s policies offer cashless claims for medical expenses and compensation for other covered incidents. With an expanding list of covered destinations, Niva Bupa ensures that your travels are safeguarded wherever you go. So buy travel insurance online from Niva Bupa and get the best coverage against numerous risks. When to Buy Travel Insurance? If you plan to embark on multiple trips, you should buy a travel plan in advance to cover all the upcoming trips. Even in the case of a single trip, buying a travel plan in advance is advisable. Typically, it could be on the date of booking the tickets or a few days after that.\n",
            "You can also buy travel plans at the last minute. But you may miss out on crucial coverages. For instance, travel insurance offers cancellation coverage. But you will miss out on the same if the cancellation happens before the policy start date. In other words, buy your travel insurance well in advance to avail all benefits. Why Buy Travel Insurance Policy? Some of the common reasons that make a travel insurance important are: People are more prone to medical problems in a foreign land, be it within India or overseas, due to changes in food habits and environmental reasons. Travel insurance helps tackle such circumstances with ease.It protects in case of baggage losses at airports and theft or travel scams in many tourist destinations. Travel insurance protects the policyholder in the event of flight delay or cancellation. It protects you in the event of natural calamities, man-made disasters, flight hijacking, etc. Student travelers can also opt for study interruption coverage in their travel plans. Travel insurance may cover fatalities and repatriation of mortal remains. Travel insurance is a mandatory requirement in more than 30 countries. It is a prerequisite for visa processing while travelling to these countries. Who Should Buy a Travel Insurance Plan? While it is mandatory to have travel insurance before visiting certain countries, people travelling to any country, in general, should buy a travel insurance plan.\n",
            "Along with, it is advisable for the following travelers to buy a travel insurance plan:\n",
            "Individual travelers and families\n",
            "Senior citizens - because of their higher medical susceptibility\n",
            "Corporate travelers can cover their travel risks while travelling on behalf of their organization\n",
            "Students can buy student-specific travel plans with longer validity\n",
            "People travelling in groups can insist on the purchase of travel insurance by their tour organizer\n",
            "Domestic travelers can buy travel plans designed to cover travel risks within the country What’s Covered Under Niva Bupa's Travel Insurance? Niva Bupa offers extensive coverage, protecting travellers from various risks they might be exposed to while travelling. Delay or loss of checked-in baggage This travel insurance coverage offers reimbursement for significant delay or loss of checked-in baggage. Missed connecting flight This coverage under travel insurance reimburses you for the extra accommodation and travel costs to reach the next destination if you miss a pre-booked connecting flight due to a late primary flight. Loss of Passport This coverage reimburses you for the cost of applying for a new passport if the original is lost. Dental Treatment This travel insurance coverage reimburses pain-relieving dental treatment under anaesthesia. However, this coverage is only applicable in cases of emergency, such as accidents and sudden acute pain. Trip delay, cancellation, interruption These three separate coverages offer reimbursement for part of the travel and accommodation costs if your travel is delayed, cancelled, or interrupted due to certain conditions mentioned in the policy document. Medical emergency (hospitalisation): This travel insurance coverage offers cashless claims and reimbursement for the cost of medical treatment. Emergency outpatient treatment This travel insurance covers and reimburses any emergency treatment under OPD Medical evacuation This coverage offers cashless claims and reimburses the cost of transferring patients from one hospital to another if the primary hospital does not provide appropriate care Emergency trip extension If the trip is extended due to certain exceptional circumstances, this coverage offers an extension of the policy up to $20,000 Personal accident This coverage offers a payout of up to the benefit limit as per the selected plan for accidental death or disability. Repatriation of mortal remains This coverage reimburses you for the cost of transporting the mortal remains of the traveller or the cost of cremation in the city/country of death. Niva Bupa offers these coverages bundled in curated plans for each country, offering specific coverage options. When considering these plans, remember that some covers may require specific criteria to claim them, so it is advised to properly read the policy document to understand whether you fulfil these criteria. What’s Not Covered Under Niva Bupa's Travel Insurance? Exclusions are specific risks and activities that an insurance provider does not cover. If a policyholder incurs a loss due to participating in such activities, their claim might be rejected. These exclusions are clearly stated under the travel insurance policy document and thus need to be considered when purchasing a policy. By considering these exclusions, travellers can accurately plan their journeys and take adequate measures to protect themselves from these risks. Here is a list of activities and risks which Niva Bupa does not cover. These include treatment for any injury or illness resulting from nuclear or radiological emissions, war or rebellion, and specific acts of terrorism. Active participation in military exercises, war games, or engagement with the enemy. Any loss or injury due to committing or attempting to breach the law with criminal intent Expenses for cosmetic or plastic surgery or any treatment to change appearance, including obesity or weight control programs. Unless in certain circumstances as listed in the policy document Maternity expenses Non-prescription or unproven drugs or treatments The provision of fitting of hearing aids, spectacles or contact lenses, including optometric therapy, any treatment, and associated expenses for alopecia, baldness, wigs, or toupees, medical supplies including elastic stockings, diabetic test strips, and similar products. If the insured person is travelling against the advice of a Doctor or is receiving or on a waiting list for specified medical treatment Death, injury, medical condition, or disability resulting from suicide or attempted suicide, self-inflicted wound or illness, consumption of alcohol or drugs, and depression. Countries with travel restrictions for Indians. Medical Tourism Damages due to adventure sports unless part of coverage Expenses related to any admission specifically for diagnostics and evaluation purposes that are not related or incidental to the current diagnosis and treatment. However, remember that this list is just a summary of the exclusions, and the policyholder needs to refer to the policy document for the complete list. It is always vital to check the policy document before participating in an activity that can result in financial loss or harm policyholders’ well-being. Features of Travel Insurance in India The following are some of the features of Niva Bupa Travel Insurance: Extensive coverage- Plans under travel insurance cover a diverse range of risks. These risks include trip delay, interruption, cancellation, loss of checked-in baggage, medical emergencies, personal accidents, medical evacuation, etc Pre-existing disease coverage- Niva Bupa offers 100% pre-existing disease coverage for student travellers as an add-on, allowing them to study with peace of mind. Travellers with single-trip travel insurance policies are also covered for pre-existing diseases up to 5% of the total sum assured, up to a maximum of US $2500. No pre-policy check-up- Plans offered under TravelAssure require no pre-policy check-up, offering convenience and peace of mind. Simple and intuitive purchase process- Niva Bupa offers a simple and intuitive way to purchase policies directly from our website. Sum assured- Niva Bupa offers a total claim limit of up to US $500,000 for single-trip policies and student travel policies. COVID-19 coverage- TravelAssure plan comes with coverage against hospitalisation expenses resulting from COVID-19. Hassle-free claims process- Niva Bupa offers cashless claims for medical expenses and compensation for loss borne due to other covered risks. Hospitalisation Standout Features Add-on Features Exclusions IN-PATIENT CARE HOSPITAL CASH MATERNITY & NEW BORN COVERAGE Get the most value from TravelAssure Extend Policy Period and Coverage Hassle-free Claims Extension of the Policy Period for a Single Trip Policy In order to extend the policy, policyholders can apply for an extension by contacting Niva Bupa’s customer care center or online by paying their premium and submitting all the required documents. This must be done before the policy expires. Once our team has verified the information, they will grant permission for an extension. Customers can also extend the geographical coverage of their policy by paying an extra premium. Contact Details for extending coverage Niva Bupa Health Insurance Contact No: 1860-500-8888; Fax No.: 011-41743397 Customer Service Portal - Insta Assist (https://rules.nivabupa.com/customer-service/) Types of Travel Insurance Plans in India There are various types of travel insurance plans offered by insurers in India: Basic Travel Policy: These plans cover basic travel risks that most insurers provide. The premium amount is comparatively low due to the limited coverage. Comprehensive Travel Policy: Comprehensive plans offer a host of optional covers, like medical expenses or repatriation of mortal remains, many insurers may not provide. etc. Notably, Niva Bupa Travel Insurance offers over 40 travel-related covers, including the ones mentioned above. Single Trip: One-time travelers can buy this policy before or after booking their tickets. This policy remains applicable for the duration of that trip. Multi-trip: If the policy buyer has several trips planned for the year, they can opt for a multi-trip policy that offers coverage for a specific period instead of the trip duration. Frequent fliers opt for this plan to avoid buying plans repeatedly. Student: Students can buy a travel plan that offers coverage for the study duration. Covers like sponsor protection and study interruption can be opted for to make the plan more student-friendly. Policy buyers can opt for a single, family, group, or any other plan as per their requirements. How to Claim Niva Bupa Travel Insurance When faced with unexpected travel expenses due to emergencies, travellers need to get a simple and hassle-free claim experience. By following the given steps, travellers can request a claim with Niva Bupa: To file a travel insurance claim, you first need to contact your insurer, Niva Bupa. You may also contact the global third-party administrator if you are travelling overseas. No requirement for pre-policy medical check-ups. You can raise a claim for travel insurance online, through mail, or even physically. You can do so both while overseas or when you return to India. You must submit a duly filled claim form along with the required documents based on the type of claim—for example, loss of baggage, trip cancellation, medical emergency, or death. Besides this, one can make two types of claims in the case of a medical emergency. Cashless claim: Niva Bupa is partnered with Europ Assistance, a global third-party administrator, to provide cashless claims to hospitals and healthcare centres worldwide. The customer intimates the claim to Europ Assistance via a toll-free number or email. The TPA - Europ Assistance will contact the customer and provide them with the required travel insurance details. Europ Assistance will then initiate the GOP (Guarantee of payment) process with the hospital where the customer will receive treatment. Europ Assistance will ask for the documents from the hospital or the customer and, after assessing the claim, will send them to Niva Bupa for approval/rejection/query/investigation. Our medical team will approve the claim by e-mail. The GOP will be released to the hospital as per the amount claimed. The hospital will contact the Europ Assistance team if any additional amount is required. At discharge, documents will be sent to Europ assistance and approved accordingly. After discharge, the hospital will send the documents to Europe Assistance for settlement to the hospital. Reimbursement Claim Intimation of Reimbursement Claim Channel Phone (with Call back Facility) +91 (0) 22 6787 2092 Email Address nivabupa@europ-assistance.in Postal Address to Send Physical Documents Europ Assistance India Pvt. Ltd. 7th Floor, Star Hub, Bldg No. 2 Near ITC Maratha Hotel, Sahar, Andheri (East), Mumbai-400 059. +91 22 6787 2092 Basic Information at the time of Claim intimation is to be provided by the customer 1.Name of the insured 2.Policy No. 3.Date of Birth 4.Email Address 5. Local Contact Number Claim related information 1.Nature of loss (Brief narration of loss) 2.The coverage under which the claim is sought. Claim Amount Confirmation Claim amount with detailed bifurcation Important Note: All claims are indemnity; only upon receipt of complete documents along with bills and receipts of payment will claim admissibility be decided; hence, all claim-related supporting documents must be submitted after the claim is registered. For the documents required, please refer to the policy wording document and the claim procedure, which will be sent after a claim is registered. Important Note: All claims are processed according to the policy benefits, terms and conditions. The final decision on any claim will be made after all the documents are received and assessed. Mandatory Documents Required for Reimbursement Claims 1. Claim form 2. KYC 3. Cancelled cheque of the proposer 4. Discharge summary 5. Final bill along with break up 6. Payment receipt 7. All investigation reports Eligibility Criteria for Travel Insurance The various eligibility criteria for Niva Bupa Health Insurance's TravelAssure plan include: Adults should be between the age of 18 and 70 Dependent children can be up to the age of 25 Travelers must possess and furnish mandatory documents like copies of passport, visa, income proof, and other relevant papers Considerations Before Buying Travel Insurance Policy Some of the factors that you need to consider before buying a travel insurance policy are: Duration: If you are planning to travel again, it is advisable to opt for a long duration multi-trip travel insurance plan. If your single trip is for a longer duration, the premium will be higher, so plan your trip accordingly. Nature of the Trip: Choose the plan as per the nature of your trip. Someone planning to do sky diving would have different optional covers compared to someone travelling to attend business meetings. Sum Assured: Estimate your travel risk and finalize your sum assured accordingly. The higher the sum assured, the higher will be the premium. Optional Covers: Go through the list of covers available and select judiciously. Selecting unnecessary covers will only escalate the premium. Exclusions: There may be specified circumstances or conditions where the travel insurance is not applicable. Always familiarize yourself with the exclusions before buying the travel plan. COVID-19 Coverage Due to the global scale of the COVID-19 pandemic, most leading insurance companies offer COVID-19 specific coverages in their travel plans. Niva Bupa TravelAssure provides COVID-19 hospitalisation coverage up to the sum assured. Accordingly, if you are infected or test positive for COVID-19 during your overseas stay, the travel insurance plan will bear the cost of your treatment and hospitalisation. In almost all countries, a COVID-19 infection leads to the applicability of strict isolation rules and gets addressed as per their SOP when detected. Therefore, adequate COVID-19 coverage can be handy in times of need. Frequently Asked Questions Does the Niva Bupa travel insurance policy have a free-look period? How does the claim process for Niva Bupa Travel Insurance work? When, where, and how to choose travel insurance plan? How to claim travel insurance? How to file for a Claim for International Travel Insurance How to calculate travel insurance premium? How to compare travel insurance premium? Countries where travel insurance is necessary/mandatory Is it mandatory to buy travel insurance for visa? Is a medical check-up necessary before buying this policy? How to extend international travel insurance Policy? Can you buy travel insurance after booking your trip? Does TravelAssure plan provide coverage against Covid 19 Can I File a Claim After Getting Back to India? Can I buy insurance if I am going on a work permit abroad? Is there any tax benfit that one can avail while purchasing Travel Insurance? What are the age criteria for which you issue a travel insurance policy online in India? Health Insurance - Health Insurance | Medical Insurance | Best Health Insurance Plans | Health Insurance Policy | Best Family Health Insurance | Best Mediclaim Policy | Best Health Insurance In India | Mediclaim | Best Health Insurance For Senior Citizens In India | Best Health Insurance | Health Insurance With OPD Cover | Mediclaim Insurance | Medical Insurance Plans | Best Health Insurance Company in India | Critical Illness Insurance | Personal Accident Insurance | Mediclaim Policy | Individual Health Insurance | Pregnancy Insurance | Maternity Insurance | Best Family Health Insurance plans in India | Best Health Insurance company | Family Health Insurance | Best Health Insurance plans for Senior Citizens | Mediclaim Policy for Family Health Insurance Schemes - Chief Ministers Comprehensive Health Insurance Scheme | Employee State Insurance Scheme | Swasthya Sathi Scheme | Pradhan Mantri Matru Vandana Yojna | Government Health Insurance Scheme | Dr. YSR Aarogyasri Scheme | Pradhan Mantri Suraksha Bima Yojna | Health Insurance Deductible | West Bengal Health Scheme | Third Party Administrator | Rashtriya Swasthya Bima Yojana | In Patient Vs Out Patient Hospitalization | Mukhyamantri Chiranjeevi Yojna | Arogya Sanjeevani Health Insurance | Copay Health Insurance | Cashless Health Insurance Scheme | Mukhyamantri Amrutum Yojna Travel Insurance - Travel Insurance | International Travel Insurance | Student Travel Insurance | Travel Insurance USA | Travel Insurance Canada | Travel Insurance Thailand | Travel Insurance Germany | Travel Insurance Dubai | Travel Insurance Bali | Travel Insurance Australia | Travel Insurance Schengen | Travel Insurance Singapore | Travel Insurance UK | Travel Insurance Vietnam | Malaysia Tourist Places | Thailand Visa for Indians | Canada Visa for Indians | Bali Visa for Indians | ECR and Non ECR Passport | Qatar Visa Status | USA Visa | Vietnam Visa | USA H1B Work Visa Become An Agent - Insurance Agent | Insurance Advisor | Licensed Insurance Agent | Health Insurance Consultant | POSP Insurance Agent Group Health Insurance - Startup Health Insurance | Commercial Health Insurance | Corporate insurance vs personal insurance | Group Personal Accident Insurance Top Hospitals - Best Hospitals in Chennai | Top Hospitals in Delhi | Best Hospitals in Gurgaon | Best Hospitals in India | Top 10 Hospitals in India | Best Hospitals in Hyderabad | Best Hospitals in Kolkata | Best cancer hospitals in Bangalore | Best cancer hospitals in Hyderabad | Best cancer hospitals in Mumbai | Best cancer hospitals in India | Top 10 cancer hospitals in India | Top 10 cancer hospital in Delhi | Multi Speciality Hospitals in Mumbai | Multi Speciality Hospitals in Chennai | Multi Speciality Hospitals in Hyderabad | Super Speciality Hospitals in Delhi | Best Liver Hospitals in Delhi | Best Liver Hospitals in India | Best Kidney Hospitals in India | Best Heart hospitals in Bangalore | Best Heart hospitals in India | Best Heart hospitals in Kolkata | Best Heart hospitals in Delhi Others - Top Up Health Insurance Policy | Corporate Health Insurance | Health Card | Section 80d of Income Tax Act | Ayushman Bharat | Health Insurance Portability | GoActive Family Floater Plan | Health Companion Family Floater Plan | Health Premia Family Floater Plan | Health Pulse Family Floater Plan | Health Recharge Family Floater Plan | Heartbeat Family Floater Plan | Money Saver Family Floater Plan | Saral Suraksha Bima Family Floater Plan | Senior Citizen Family Floater Plan | Super Saver Family Floater Plan | Corona Kavach Family Floater Plan | Hospital Cash Insurance | Cashless Health Insurance | Health Companion Price revision | Heartbeat Price revision | ReAssure Price revision Health & Wellness - PCOD | PCOD Problems Symptoms | Stomach Infection | Stomach Infection symptoms | Home remedies for Stomach Infection | Hypertension definition | How to Control Sugar | Typhoid in Hindi | Blood sugar symptoms | Typhoid symptoms in hindi | Low sugar symptoms | ब्लड शुगर के लक्षण | pregnancy me kya kare | Open heart surgery cost | Blood infection symptoms in hindi | BP badhne ke karan | Khansi ka gharelu upay | Omicron | Coronavirus Health Insurance | Covid XE Variant | Norovirus Insurance Plans Health Insurance Plans Individual Health Insurance Plans Family Health Insurance Plans Critical Illness Insurance Plans Personal Accident Insurance Plans Mediclaim Policy Travel Insurance Best Health Insurance for Senior Citizens Niva Bupa Store Locator Empower Health Plan SurroGuard Health Plan Oocyte Guard Health Plan About Niva Bupa About Us Contact Us Unclaimed Amount Media Center Public Disclosures Investor Relations Bupa True North Promoters Our Management Board of Directors ESG Policy Supplier Code Of Conduct Tools for You Articles Channel Payment Glossary Customer Grievance Redressal Careers Insure Care Auto Renewal Do Not Disturb Registry Download Center Balasore Train Accident ABHA Health ID Legal IRDA Consumer Education Stewardship Policy Underwriting Philosophy Website Terms & Conditions Privacy Policy & Disclaimers Insurance Ombudsman Products Updated & Withdrawn List Installment Premium Product List List of Products Offered Whistleblower Policy Infosec Incident Reporting Log In Service Provider Agents Health Link Portal IRDAI Call Centre Feedback Survey Insurance Plans About Niva Bupa Tools for You Legal Log In Follow us Download Our App First-time premium shown is calculated on the base sum insured (Rs 5 lacs for Health Companion, Heartbeat, Health Premia, Health Pulse and GoActiveTM, Rs 10.5 lacs for Money Saver, and Rs 10 lacs for Health Assurance) of an individual aged 25 residing in Delhi NCR region. The premium changes as per the product features selected and the insured details you submit on the website. Terms and conditions apply, please refer to the brochure for complete details. Base premium is calculated for Health Companion for an individual aged 25, residing in Delhi NCR. The premium amount is illustrative only and it may vary over the period depending on the type of product, features/add-ons selected, changes to product version, inflation rates, and underwriting decision of the company. Aspire max: Premium in inclusive of GST and calculated for a 25-year-old individual living in Delhi with 5 Lacs Aspire Sum Insured (Gold+ variant) and 95 Lacs sum insured from Health Recharge (with 5 Lacs Deductible) Aspire product Premium: Premium in inclusive of GST and calculated for a 25-year-old individual living in Delhi with 5 Lacs Sum Insured (Gold+ variant) BEWARE OF SPURIOUS / FRAUD PHONE CALLS! Do not share your confidential information like Debit / credit card number, Internet Banking User ID/Password, Pin, CVV, OTP, etc. with anyone. Avoid clicking on attachments / payment link received in mails / message from unknown sources. IRDAI is not involved in activities like selling insurance policies, announcing bonus or investment or premium. Public receiving such phone calls are requested to lodge a police complaint. Do not respond to unsolicited and attractive offers received through unidentified calls, emails, SMSs, and other social media platforms. Beware of misleading telephone calls from people posing as Niva Bupa officials, agents, IRDAI Officials, Officials from ECI (Office of the Executive Council of Insurers) etc. and offering alluring benefits or sharing false information on your policy or on Niva Bupa. Niva Bupa shall not be responsible for any loss or damages whatsoever for any acts or omissions arising out of such spurious calls, and all customers are advised to contact our customer care at 1860-500-8888 and verify any representations or promises made by any such spurious callers before acting upon the same. (8) Heart Beat: Quoted premium is inclusive of GST for INR 5 lacs Sum Insured with a policy tenure of 1 year for 1 Adult aged 25 years living in Delhi with Zone 1 Option (all India coverage without any co-payment) (11) Quoted premium is inclusive of GST for INR 5 lacs Sum Insured with a policy tenure of 1 year for 1 Adult aged 25 years living in Delhi, at Level 0 of “Favourable claim Discount Call Chat\u001b[00m\n",
            "\n",
            "\n",
            "\u001b[1m\u001b[95m# Agent:\u001b[00m \u001b[1m\u001b[92mSenior Support Representative\u001b[00m\n",
            "\u001b[95m## Final Answer:\u001b[00m \u001b[92m\n",
            "Hi,\n",
            "\n",
            "Thank you for reaching out! I'm delighted to assist you with your travel insurance needs for your upcoming trip to Japan from February 22nd to 27th. Let’s dive into the details to ensure you have all the information you need.\n",
            "\n",
            "### How to Get Travel Insurance:\n",
            "Purchasing a travel insurance policy is a breeze through our Niva Bupa website. Here’s how you can do it:\n",
            "\n",
            "1. **Visit the Niva Bupa Travel Insurance page.** You can find it on our main website under the insurance sections.\n",
            "2. **Enter your travel details:** Fill in your travel dates (22nd - 27th February), your personal details, and select the coverage options you feel comfortable with.\n",
            "3. **Receive a quote:** Once you've entered your details, you’ll receive a quote tailored to your needs. This is where you can review different policy options that align with your travel plans.\n",
            "4. **Complete the purchase:** After selecting your preferred policy, simply fill in the necessary details to complete the purchase. Once done, you're covered for your entire trip!\n",
            "\n",
            "### Trip Cancellation Policy:\n",
            "As for your inquiry about trip cancellations, our travel insurance does cover financial losses due to trip cancellations that occur before your insurance policy's effective start date. It’s a smart move to purchase travel insurance as soon as your trip is planned to ensure you're covered from the get-go.\n",
            "\n",
            "If you find yourself needing to cancel your trip after the insurance has commenced, I recommend reviewing the policy document closely, as it outlines the specific conditions for claims related to trip cancellation. In most cases, expenses from trip interruptions, delays, or cancellations due to unexpected events will be reimbursed, providing you with much-needed peace of mind.\n",
            "\n",
            "### Additional Benefits:\n",
            "With our travel insurance, you’ll have access to a variety of other benefits including:\n",
            "- Emergency medical expenses\n",
            "- Coverage in case of loss or delay of baggage\n",
            "- Assistance for missed flights\n",
            "- And much more!\n",
            "\n",
            "If there's anything more specific you'd like to know about the coverage or claims process, don't hesitate to reach out! I’m more than happy to answer any questions and help ensure your travels are as smooth as possible.\n",
            "\n",
            "Wishing you safe travels and a fantastic time at your conference in Japan!\n",
            "\n",
            "Best regards,  \n",
            "[Your Name]  \n",
            "Senior Support Representative  \n",
            "Niva Bupa\n",
            "```\u001b[00m\n",
            "\n",
            "\n",
            "\u001b[1m\u001b[95m# Agent:\u001b[00m \u001b[1m\u001b[92mSupport Quality Assurance Specialist\u001b[00m\n",
            "\u001b[95m## Task:\u001b[00m \u001b[92mReview the response drafted by the Senior Support Representative for Vettura.ai's inquiry. Ensure that the answer is comprehensive, accurate, and adheres to the high-quality standards expected for customer support.\n",
            "Verify that all parts of the customer's inquiry have been addressed thoroughly, with a helpful and friendly tone.\n",
            "Check for references and sources used to  find the information, ensuring the response is well-supported and leaves no questions unanswered.\u001b[00m\n",
            "\n",
            "\n",
            "\u001b[1m\u001b[95m# Agent:\u001b[00m \u001b[1m\u001b[92mSupport Quality Assurance Specialist\u001b[00m\n",
            "\u001b[95m## Final Answer:\u001b[00m \u001b[92m\n",
            "Hi Ashish,\n",
            "\n",
            "Thank you for reaching out! I'm thrilled to assist you with your travel insurance needs for your upcoming trip to Japan from February 22nd to 27th. Let's ensure you're fully equipped with all the information you need for a worry-free experience.\n",
            "\n",
            "### How to Get Travel Insurance:\n",
            "Purchasing a travel insurance policy is incredibly straightforward through our Niva Bupa website. Here’s a step-by-step guide to help you out:\n",
            "\n",
            "1. **Visit the Niva Bupa Travel Insurance page.** You can find it easily on our main website, typically under the insurance sections.\n",
            "2. **Enter your travel details:** Input your travel dates (22nd - 27th February), along with your personal information, and select coverage options that suit your travel plans.\n",
            "3. **Receive a quote:** After submitting your details, you'll receive a personalized quote tailored to your requirements. This quote allows you to review various policy options and find one that fits your needs.\n",
            "4. **Complete the purchase:** Once you've chosen your preferred policy, simply fill in the necessary information to finalize the purchase. You'll then be covered for the entirety of your trip!\n",
            "\n",
            "### Trip Cancellation Policy:\n",
            "Regarding your question about trip cancellation, I’m pleased to confirm that our travel insurance covers financial losses due to trip cancellations occurring before your policy's effective start date. It's a smart idea to acquire travel insurance as soon as your trip is booked, giving you protection from the moment you finalize plans.\n",
            "\n",
            "If you need to cancel your trip after your insurance has taken effect, I'd suggest reviewing the policy document closely. It details specific conditions for claims related to trip cancellations. Generally, expenses resulting from trip interruptions, delays, or cancellations due to unforeseen events will be reimbursed, ensuring that you have peace of mind during your travels.\n",
            "\n",
            "### Additional Benefits:\n",
            "With our travel insurance, you're not only protected against cancellations but also enjoy a host of other benefits like:\n",
            "\n",
            "- **Emergency Medical Expenses:** Get coverage for unplanned medical emergencies during your trip.\n",
            "- **Baggage Coverage:** Protect against loss or delay of baggage, so your belongings are safe.\n",
            "- **Missed Flight Assistance:** If a missed flight throws a wrench in your plans, we’re here to help.\n",
            "- **Much More!** These coverages ensure you are well-prepared for any unexpected situations that may arise.\n",
            "\n",
            "If you have any further questions or need clarification on anything related to your coverage or the claims process, please don't hesitate to reach out! I'm here to help make your travel as smooth and enjoyable as possible.\n",
            "\n",
            "Wishing you safe travels and an incredible time at your conference in Japan!\n",
            "\n",
            "Best regards,  \n",
            "[Your Name]  \n",
            "Senior Support Representative  \n",
            "Niva Bupa\u001b[00m\n",
            "\n",
            "\n"
          ]
        }
      ],
      "source": [
        "inputs = {\n",
        "    \"customer\": \"Vettura.ai\",\n",
        "    \"person\": \"Ashish Sahani\",\n",
        "    \"inquiry\": \"Hey I am travelling to Japan for a conference\"\n",
        "    \"from 22nd to 27 Februray. How can I get a travel insurance? Can I cancel if my trip gets cancelled?\"\n",
        "}\n",
        "result = crew.kickoff(inputs=inputs)"
      ]
    },
    {
      "cell_type": "markdown",
      "metadata": {
        "id": "fX4Z6BDYzkvU"
      },
      "source": [
        "- Display the final result as Markdown."
      ]
    },
    {
      "cell_type": "code",
      "execution_count": 44,
      "metadata": {
        "colab": {
          "base_uri": "https://localhost:8080/",
          "height": 446
        },
        "height": 47,
        "id": "fTVbxpzyzkvU",
        "outputId": "c3c187ad-ca36-4e19-cd99-b11c310d5863"
      },
      "outputs": [
        {
          "data": {
            "text/markdown": [
              "Hi Ashish,\n",
              "\n",
              "Thank you for reaching out! I'm thrilled to assist you with your travel insurance needs for your upcoming trip to Japan from February 22nd to 27th. Let's ensure you're fully equipped with all the information you need for a worry-free experience.\n",
              "\n",
              "### How to Get Travel Insurance:\n",
              "Purchasing a travel insurance policy is incredibly straightforward through our Niva Bupa website. Here’s a step-by-step guide to help you out:\n",
              "\n",
              "1. **Visit the Niva Bupa Travel Insurance page.** You can find it easily on our main website, typically under the insurance sections.\n",
              "2. **Enter your travel details:** Input your travel dates (22nd - 27th February), along with your personal information, and select coverage options that suit your travel plans.\n",
              "3. **Receive a quote:** After submitting your details, you'll receive a personalized quote tailored to your requirements. This quote allows you to review various policy options and find one that fits your needs.\n",
              "4. **Complete the purchase:** Once you've chosen your preferred policy, simply fill in the necessary information to finalize the purchase. You'll then be covered for the entirety of your trip!\n",
              "\n",
              "### Trip Cancellation Policy:\n",
              "Regarding your question about trip cancellation, I’m pleased to confirm that our travel insurance covers financial losses due to trip cancellations occurring before your policy's effective start date. It's a smart idea to acquire travel insurance as soon as your trip is booked, giving you protection from the moment you finalize plans.\n",
              "\n",
              "If you need to cancel your trip after your insurance has taken effect, I'd suggest reviewing the policy document closely. It details specific conditions for claims related to trip cancellations. Generally, expenses resulting from trip interruptions, delays, or cancellations due to unforeseen events will be reimbursed, ensuring that you have peace of mind during your travels.\n",
              "\n",
              "### Additional Benefits:\n",
              "With our travel insurance, you're not only protected against cancellations but also enjoy a host of other benefits like:\n",
              "\n",
              "- **Emergency Medical Expenses:** Get coverage for unplanned medical emergencies during your trip.\n",
              "- **Baggage Coverage:** Protect against loss or delay of baggage, so your belongings are safe.\n",
              "- **Missed Flight Assistance:** If a missed flight throws a wrench in your plans, we’re here to help.\n",
              "- **Much More!** These coverages ensure you are well-prepared for any unexpected situations that may arise.\n",
              "\n",
              "If you have any further questions or need clarification on anything related to your coverage or the claims process, please don't hesitate to reach out! I'm here to help make your travel as smooth and enjoyable as possible.\n",
              "\n",
              "Wishing you safe travels and an incredible time at your conference in Japan!\n",
              "\n",
              "Best regards,  \n",
              "[Your Name]  \n",
              "Senior Support Representative  \n",
              "Niva Bupa"
            ],
            "text/plain": [
              "<IPython.core.display.Markdown object>"
            ]
          },
          "execution_count": 44,
          "metadata": {},
          "output_type": "execute_result"
        }
      ],
      "source": [
        "from IPython.display import Markdown\n",
        "Markdown(result.raw)"
      ]
    },
    {
      "cell_type": "code",
      "execution_count": null,
      "metadata": {
        "height": 30,
        "id": "JpXsuA5ZzkvU"
      },
      "outputs": [],
      "source": []
    },
    {
      "cell_type": "code",
      "execution_count": null,
      "metadata": {
        "height": 30,
        "id": "U6GMFPphzkvU"
      },
      "outputs": [],
      "source": []
    }
  ],
  "metadata": {
    "colab": {
      "provenance": []
    },
    "kernelspec": {
      "display_name": "Python 3 (ipykernel)",
      "language": "python",
      "name": "python3"
    },
    "language_info": {
      "codemirror_mode": {
        "name": "ipython",
        "version": 3
      },
      "file_extension": ".py",
      "mimetype": "text/x-python",
      "name": "python",
      "nbconvert_exporter": "python",
      "pygments_lexer": "ipython3",
      "version": "3.10.16"
    }
  },
  "nbformat": 4,
  "nbformat_minor": 0
}
