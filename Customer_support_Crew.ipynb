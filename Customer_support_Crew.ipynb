{
  "cells": [
    {
      "cell_type": "code",
      "execution_count": 18,
      "metadata": {
        "colab": {
          "base_uri": "https://localhost:8080/"
        },
        "id": "Hr_li-6xzwcb",
        "outputId": "c6ebbf2c-55c5-4798-887b-b26b5695d6b1"
      },
      "outputs": [],
      "source": [
        "# !pip install crewai==0.28.8 crewai_tools==0.1.6 langchain_community==0.0.29"
      ]
    },
    {
      "cell_type": "code",
      "execution_count": null,
      "metadata": {
        "height": 64,
        "id": "_LQ5_lop4KJq"
      },
      "outputs": [],
      "source": [
        "# Warning control\n",
        "import warnings\n",
        "warnings.filterwarnings('ignore')"
      ]
    },
    {
      "cell_type": "code",
      "execution_count": 2,
      "metadata": {
        "height": 30,
        "id": "VoWxqMK8zkvP"
      },
      "outputs": [],
      "source": [
        "from crewai import Agent, Task, Crew"
      ]
    },
    {
      "cell_type": "code",
      "execution_count": null,
      "metadata": {},
      "outputs": [],
      "source": [
        "from dotenv import load_dotenv\n",
        "import os\n",
        "\n",
        "# Load environment variables from .env file\n",
        "load_dotenv()\n",
        "\n",
        "openai_api_key = os.getenv('OPENAI_API_KEY')\n",
        "os.environ[\"OPENAI_API_KEY\"] = openai_api_key\n",
        "os.environ[\"OPENAI_MODEL_NAME\"] = 'gpt-4o-mini'"
      ]
    },
    {
      "cell_type": "markdown",
      "metadata": {
        "id": "YjYs6EskzkvP"
      },
      "source": [
        "## Role Playing, Focus and Cooperation"
      ]
    },
    {
      "cell_type": "code",
      "execution_count": null,
      "metadata": {
        "height": 285,
        "id": "o0QhL3D0zkvP"
      },
      "outputs": [],
      "source": [
        "support_agent = Agent(\n",
        "    role=\"Senior Support Representative\",\n",
        "\tgoal=\"Be the most friendly and helpful \"\n",
        "        \"support representative in your team\",\n",
        "\tbackstory=(\n",
        "\t\t\"You work at Niva Bupa Insurance Agency and \"\n",
        "        \" are now working on providing \"\n",
        "\t\t\"support to {customer}, a super important customer \"\n",
        "        \" for your company.\"\n",
        "\t\t\"You need to make sure that you provide the best support!\"\n",
        "\t\t\"Make sure to provide full complete answers, \"\n",
        "        \" and make no assumptions.\"\n",
        "\t),\n",
        "\tallow_delegation=False,\n",
        "\tverbose=True\n",
        ")"
      ]
    },
    {
      "cell_type": "code",
      "execution_count": 8,
      "metadata": {
        "height": 285,
        "id": "gwvyTqarzkvQ"
      },
      "outputs": [],
      "source": [
        "support_quality_assurance_agent = Agent(\n",
        "\trole=\"Support Quality Assurance Specialist\",\n",
        "\tgoal=\"Get recognition for providing the \"\n",
        "    \"best support quality assurance in your team\",\n",
        "\tbackstory=(\n",
        "\t\t\"You work at Niva Bupa Insurance Agency and \"\n",
        "        \"are now working with your team \"\n",
        "\t\t\"on a request from {customer} ensuring that \"\n",
        "        \"the support representative is \"\n",
        "\t\t\"providing the best support possible.\\n\"\n",
        "\t\t\"You need to make sure that the support representative \"\n",
        "        \"is providing full\"\n",
        "\t\t\"complete answers, and make no assumptions.\"\n",
        "\t),\n",
        "\tverbose=True\n",
        ")"
      ]
    },
    {
      "cell_type": "markdown",
      "metadata": {
        "id": "5--QdoTbzkvR"
      },
      "source": [
        "## Tools, Guardrails and Memory\n",
        "\n",
        "### Tools"
      ]
    },
    {
      "cell_type": "markdown",
      "metadata": {
        "id": "HUVqk_9azkvR"
      },
      "source": [
        "- Import CrewAI tools"
      ]
    },
    {
      "cell_type": "code",
      "execution_count": 9,
      "metadata": {
        "height": 64,
        "id": "p3BN09SYzkvR"
      },
      "outputs": [
        {
          "name": "stderr",
          "output_type": "stream",
          "text": [
            "/Users/jayeshbhadane/Desktop/Vettura_AI/GenAI/lib/python3.12/site-packages/pydantic/_internal/_config.py:295: PydanticDeprecatedSince20: Support for class-based `config` is deprecated, use ConfigDict instead. Deprecated in Pydantic V2.0 to be removed in V3.0. See Pydantic V2 Migration Guide at https://errors.pydantic.dev/2.10/migration/\n",
            "  warnings.warn(DEPRECATION_MESSAGE, DeprecationWarning)\n",
            "/Users/jayeshbhadane/Desktop/Vettura_AI/GenAI/lib/python3.12/site-packages/crewai_tools/tools/scrapegraph_scrape_tool/scrapegraph_scrape_tool.py:34: PydanticDeprecatedSince20: Pydantic V1 style `@validator` validators are deprecated. You should migrate to Pydantic V2 style `@field_validator` validators, see the migration guide for more details. Deprecated in Pydantic V2.0 to be removed in V3.0. See Pydantic V2 Migration Guide at https://errors.pydantic.dev/2.10/migration/\n",
            "  @validator(\"website_url\")\n",
            "/Users/jayeshbhadane/Desktop/Vettura_AI/GenAI/lib/python3.12/site-packages/crewai_tools/tools/selenium_scraping_tool/selenium_scraping_tool.py:26: PydanticDeprecatedSince20: Pydantic V1 style `@validator` validators are deprecated. You should migrate to Pydantic V2 style `@field_validator` validators, see the migration guide for more details. Deprecated in Pydantic V2.0 to be removed in V3.0. See Pydantic V2 Migration Guide at https://errors.pydantic.dev/2.10/migration/\n",
            "  @validator(\"website_url\")\n",
            "/Users/jayeshbhadane/Desktop/Vettura_AI/GenAI/lib/python3.12/site-packages/crewai_tools/tools/vision_tool/vision_tool.py:15: PydanticDeprecatedSince20: Pydantic V1 style `@validator` validators are deprecated. You should migrate to Pydantic V2 style `@field_validator` validators, see the migration guide for more details. Deprecated in Pydantic V2.0 to be removed in V3.0. See Pydantic V2 Migration Guide at https://errors.pydantic.dev/2.10/migration/\n",
            "  @validator(\"image_path_url\")\n"
          ]
        }
      ],
      "source": [
        "from crewai_tools import SerperDevTool, \\\n",
        "                         ScrapeWebsiteTool, \\\n",
        "                         WebsiteSearchTool"
      ]
    },
    {
      "cell_type": "code",
      "execution_count": 10,
      "metadata": {
        "height": 64,
        "id": "11RE35yvzkvS"
      },
      "outputs": [],
      "source": [
        "docs_scrape_tool = ScrapeWebsiteTool(\n",
        "    website_url=\"https://www.nivabupa.com/travel-insurance.html\"\n",
        ")"
      ]
    },
    {
      "cell_type": "code",
      "execution_count": null,
      "metadata": {
        "height": 421,
        "id": "XtJ5m47jzkvT"
      },
      "outputs": [],
      "source": [
        "inquiry_resolution = Task(\n",
        "    description=(\n",
        "        \"{customer} just reached out with a super important ask:\\n\"\n",
        "\t    \"{inquiry}\\n\\n\"\n",
        "        \"{person} from {customer} is the one that reached out. \"\n",
        "\t\t\"Make sure to use everything you know \"\n",
        "        \"to provide the best support possible.\"\n",
        "\t\t\"You must strive to provide a complete \"\n",
        "        \"and accurate response to the customer's inquiry.\"\n",
        "    ),\n",
        "    expected_output=(\n",
        "\t    \"A detailed, informative response to the \"\n",
        "        \"customer's inquiry that addresses \"\n",
        "        \"all aspects of their question.\\n\"\n",
        "        \"The response should include references \"\n",
        "        \"to everything you used to find the answer, \"\n",
        "        \"including external data or solutions. \"\n",
        "        \"Ensure the answer is complete, \"\n",
        "\t\t\"leaving no questions unanswered, and maintain a helpful and friendly \"\n",
        "\t\t\"tone throughout.\"\n",
        "    ),\n",
        "\ttools=[docs_scrape_tool],\n",
        "    agent=support_agent,\n",
        ")"
      ]
    },
    {
      "cell_type": "code",
      "execution_count": 12,
      "metadata": {
        "height": 438,
        "id": "sfXlh8-uzkvT"
      },
      "outputs": [],
      "source": [
        "quality_assurance_review = Task(\n",
        "    description=(\n",
        "        \"Review the response drafted by the Senior Support Representative for {customer}'s inquiry. \"\n",
        "        \"Ensure that the answer is comprehensive, accurate, and adheres to the \"\n",
        "\t\t\"high-quality standards expected for customer support.\\n\"\n",
        "        \"Verify that all parts of the customer's inquiry \"\n",
        "        \"have been addressed \"\n",
        "\t\t\"thoroughly, with a helpful and friendly tone.\\n\"\n",
        "        \"Check for references and sources used to \"\n",
        "        \" find the information, \"\n",
        "\t\t\"ensuring the response is well-supported and \"\n",
        "        \"leaves no questions unanswered.\"\n",
        "    ),\n",
        "    expected_output=(\n",
        "        \"A final, detailed, and informative response \"\n",
        "        \"ready to be sent to the customer.\\n\"\n",
        "        \"This response should fully address the \"\n",
        "        \"customer's inquiry, incorporating all \"\n",
        "\t\t\"relevant feedback and improvements.\\n\"\n",
        "\t\t\"Don't be too formal, we are a chill and cool company \"\n",
        "\t    \"but maintain a professional and friendly tone throughout.\"\n",
        "    ),\n",
        "    agent=support_quality_assurance_agent,\n",
        ")\n"
      ]
    },
    {
      "cell_type": "markdown",
      "metadata": {
        "id": "hLpzUTbJzkvT"
      },
      "source": [
        "# Creating the Crew"
      ]
    },
    {
      "cell_type": "code",
      "execution_count": 15,
      "metadata": {
        "height": 115,
        "id": "yB1s3w5bzkvT"
      },
      "outputs": [
        {
          "name": "stderr",
          "output_type": "stream",
          "text": [
            "2025-08-09 11:21:40,538 - 4582254080 - __init__.py-__init__:537 - WARNING: Overriding of current TracerProvider is not allowed\n"
          ]
        }
      ],
      "source": [
        "crew = Crew(\n",
        "  agents=[support_agent, support_quality_assurance_agent],\n",
        "  tasks=[inquiry_resolution, quality_assurance_review],\n",
        "  verbose=True,\n",
        "  memory=True\n",
        ")"
      ]
    },
    {
      "cell_type": "code",
      "execution_count": 16,
      "metadata": {
        "colab": {
          "base_uri": "https://localhost:8080/"
        },
        "height": 166,
        "id": "ultV4Wj5zkvU",
        "outputId": "a3b3260a-55fe-4273-9eea-a56ff70aceca"
      },
      "outputs": [
        {
          "name": "stdout",
          "output_type": "stream",
          "text": [
            "\u001b[1m\u001b[95m# Agent:\u001b[00m \u001b[1m\u001b[92mSenior Support Representative\u001b[00m\n",
            "\u001b[95m## Task:\u001b[00m \u001b[92mXYZ Insurance just reached out with a super important ask:\n",
            "Hey I am travelling to San Francisco for a conference from 22nd to 27 February. How can I get a travel insurance? Can I cancel if my trip gets cancelled?\n",
            "\n",
            "Jayesh Bhadane from XYZ Insurance is the one that reached out. Make sure to use everything you know to provide the best support possible.You must strive to provide a complete and accurate response to the customer's inquiry.\u001b[00m\n",
            "\n",
            "\n",
            "\u001b[1m\u001b[95m# Agent:\u001b[00m \u001b[1m\u001b[92mSenior Support Representative\u001b[00m\n",
            "\u001b[95m## Thought:\u001b[00m \u001b[92mI need to gather information about travel insurance options and cancellation policies from the Niva Bupa website to provide Jayesh with a comprehensive response.\u001b[00m\n",
            "\u001b[95m## Using tool:\u001b[00m \u001b[92mRead website content\u001b[00m\n",
            "\u001b[95m## Tool Input:\u001b[00m \u001b[92m\n",
            "\"{}\"\u001b[00m\n",
            "\u001b[95m## Tool Output:\u001b[00m \u001b[92m\n",
            "Buy Travel Insurance Policy Online in India 2025 @ ₹20/Day* Plans Claims Renewals Resources Customer Support Become an Agent For a New Policy 1800-309-3333 Plans Health Insurance For Me For Family For NRIs For Senior Citizens For Personal Accident View All Travel Insurance For International Travel For Studying Abroad Corporate Insurance For Group Health Insurance For Start up Health Insurance For Group Personal Accident Insurance For Group OPD Coverage For Group Health Insurance Claim Process Claims Renewals Resources Customer Support 24*7 Support (InstaAssist) Customer Helpline: 1860-500-8888 Plan Recommendation Become an Agent Secure your International Travel with Niva Bupa Travel Insurance   Get your Travel Insurance today 1 Mobile Number 2 Trip Details 3 Traveller(s) Details 4 Plan Details +91 start now By clicking Get Quote, you authorize Niva Bupa to Call/SMS/Whatsapp on your registered mobile overriding DNCR. Zindagi ko claim kar le\n",
            "Key Features of Travel Insurance Planning a trip? Knowing the key features of travel insurance can save you from unexpected hassle. Trip Related cover Medical cover Other Features Trip Cancellation Covers financial loss incurred due to cancellation of trip before its onset Trip Delay Provides financial assistance in case of delay in departure Total Loss of Checked-in Baggage Provides a lump sum benefit if your checked-in baggage is lost by carrier. Loss of Laptop, Tablet, Mobile, Phone, Camera Covers Loss of personal belongings due to robbery or theft. Loss of Passport Covers the cost of getting for a new passport Loss of baggage and Personal Belongings Provides a lump sum benefit if your baggage/ personal belonging is lost. Cruise cover Covers missed port departure, unused excursions due to illness & travel costs to re-join cruise after hospital treatment Missed Connections Covers travel cost if you missed a connection due to carrier not running on Schedule. Bounced Booking Provides financial assistance in getting alternate booking if original booking is cancelled by provider. Emergency Hospitalization Covers Emergency Hospitalization of over 24 hours. Personal Accident Provides cover for accidental death. Emergency Medical Evacuation Covers cost of transportation from one hospital to another Repatriation of Mortal remains Reimburses repatriation or local cremation costs. Hospital Daily Cash Provides Daily Cash allowance for each day of Hospitalization. Road Ambulance Covers the cost of taking ambulance to Hospital. Emergency Outpatient Treatment (OPD) Covers cost of OPD treatment for both accident and illness Emergency Dental Treatment Covers dental treatment under anaesthesia Compassionate Visit Covers travel cost for Family coming to take care of you when you are hospitalised. Flight Hijack Provides daily allowance if your carrier gets Hijacked. Personal Liability Cover your legal liability due to unintentional injury, property damage or death that you cause during your travel. Financial Emergency Cash Provides emergency financial assistance if left without any travel funds due to theft or robbed during trip. Mugging Provides coverage if mugged during trip Upgradation to Business class Upgradation to business class for return ticket if hospitalised for a period of >=5 days. Debit/Credit/FOREX Card- Fraud Covers financial loss due to fraudulent use of lost or stolen debit, credit or forex card during a trip Study Interruption Provides reimbursement in case you discontinue your planned studies due to health conditions. Sponsor Protection Covers financial aid if your sponsor dies or is permanently disabled in an accident. Adventure Sport Covers claims resulting from your involvement in adventure sports Watch the videos to know more about our Product Features Niva Bupa Travel Insurance – Loss of Passport Travel Insurance | 45 Seconds Niva Bupa Travel Insurance – Emergency Hospitalisation Travel Insurance | 44 Seconds Niva Bupa Travel Insurance - Trip Cancellation & Trip Delay Travel Insurance | 40 Seconds Niva Bupa Travel Insurance Plans Niva Bupa Travel Insurance plans ensures that you and your loved ones are protected during your international trips so that you can live life to the fullest Individual Trip Family Trip Student Travel Sports & Adventure Honeymooners Bestseller Quick Buy TravelAssure Niva Bupa’s Travel Plan for Solo Travelers Niva Bupa’s Travel Plan for Solo Travelers Our individual travel insurance plan provides extensive coverage for medical emergencies, trip cancellations, lost baggage, and more—so you can explore worry-free. ₹ 121 Annual Premium 3 $ 50,000 Sum Insured Provides financial assistance in case of delay in departure Covers the cost of getting for a new passport Covers the cost of getting for a new driving license Provides a lumpsum benefit if your checked-in baggage is lost by carrier Bestseller Quick Buy TravelAssure Niva Bupa’s Travel Plan for Families Niva Bupa’s Travel Plan for Families Travel with your loved ones stress-free! Our family travel insurance plan ensures complete protection for every family member, covering medical expenses, trip interruptions, and baggage loss. ₹ 516 Annual Premium 4 $ 50,000 Sum Insured Covers Loss of personal belongins due to robery or theft Covers missed port departure, unused excursions due to illness and travel costs to rejoin cruise after hospital treatment Provides financial assistance in getting alternate booking if original booking is canceled by provider Covers financial loss due to fradulent use of lost or stolen debit, credit or forex card during a trip Bestseller Quick Buy TravelAssure Niva Bupa’s Travel Plan for Students Niva Bupa’s Travel Plan for Students Designed for students traveling abroad, this plan offers coverage for medical emergencies, lost documents, trip delays, and more - ensuring a smooth journey while you focus on your studies. ₹ 864 Annual Premium 5 $ 50,000 Sum Insured Complete Pre-existing disease coverage Covers Loss of personal belongins due to robery or theft Covers the cost of getting for a new passport Covers cost of OPD treatment for both accident and illness Bestseller Quick Buy TravelAssure Niva Bupa’s Travel Plan for Cruise & Adventure Seekers Niva Bupa’s Travel Plan for Cruise & Adventure Seekers Whether you're setting sail or seeking thrills, our specialized travel insurance plan covers medical emergencies, adventure sports risks, and trip disruptions for a seamless experience. ₹ 296 Annual Premium 6 $ 50,000 Sum Insured Covers claims resulting from your involvement in adventure sports Covers cost of Physiotherapy post accident or illness Covers cost of renting sports equipment if your equipments are lost Covers travel cost if you missed a connection due to carrier not running on Schedule Bestseller Quick Buy TravelAssure Niva Bupa’s Travel Plan for Honeymooners Niva Bupa’s Travel Plan for Honeymooners Celebrate love without worries! Our honeymoon travel insurance covers trip cancellations, medical emergencies, and lost baggage—so you can focus on making memories. ₹ 516 Annual Premium 7 $ 50,000 Sum Insured Refunds prepaid trip costs for emergencies, natural disasters, or legal obligations. Reimburses financial losses from fraudulent use of stolen or lost cards, until reported. Complete Pre-existing disease coverage Covers travel cost if you missed a connection due to carrier not running on Schedule What is travel insurance? Travel insurance is a risk management system that provides financial protection to policyholders when travelling. As a type of insurance, it acts as a contract between the insurer and policyholder, guaranteeing financial protection up to a particular sum in the form of compensation or reimbursement.  Travellers can claim this financial protection when faced with various medical and non-medical trip-related risks. These risks range from hospitalisation to medical expenses, loss of checked-in luggage or passports, cancellation or disruption of flights, and various other expenses.  Travel insurance covers the traveller from the date of departure until they arrive back at the place of origin. However, in certain circumstances, like trip cancellation, travellers are covered from the moment of purchasing the policy.  Types of Travel Insurance Plans in India Travellers planning to secure their trips with travel insurance should note that there are several different types of travel insurance, depending on their specific needs. Here are various types of travel insurance plans offered by insurers in India: Travel protection policy: These plans cover basic travel risks such as flight delay or cancellation that most insurers provide. Although they offer limited coverage in comparison to travel insurance, their premium amount is comparatively low, as they are offered as add-ons when purchasing travel tickets. Travel health insurance: Travel health insurance offers comprehensive  health insurance plans when travelling, enabling travellers to avail themselves of financial protection from any medical expenses incurred while travelling. Travel insurance policy: Travel insurance consists of comprehensive plans that offer various benefits, such as coverage for medical expenses, trip cancellation, loss of checked-in baggage, missed connection, etc. Niva Bupa’s TravelAssure policy covers dozens of these risks, enabling financial protection and peace of mind.  Beyond these categorisations, travellers can also expect several sub-categorisations under travel insurance. These include single-trip insurance, multi-trip insurance, student travel insurance , senior citizens insurance, group insurance, domestic travel insurance, and international insurance. Single trip:   Single-trip travel insurance offers travellers coverage for a single round trip lasting from the purchase till they return to their port of origin. This policy remains applicable only for the duration of that trip. Multi trip: If a policy buyer has several trips planned for the year, they can opt for a multi-trip policy that offers coverage for a specific period instead of a single journey, thus offering convenience and cost-effectiveness. Frequent fliers opt for this type of plan to avoid buying plans repeatedly. Student: Students can buy a travel plan that offers coverage for the study duration. To make the plan more student-friendly, they can opt for specialised coverages like sponsor protection and study interruption. Group: Group travel offers convenience and more cost-effective premiums to group travellers, covering all of them with the same comprehensive coverage. Domestic: Travellers planning a domestic trip should consider opting for domestic travel insurance to secure their trip from non-medical risks such as lost checked-in baggage, trip delay, missed connection, etc. International:  International travel insurance offers complete coverage for travellers going on international trips. Policy buyers should consider and buy any of the above policies based on their specific plans and requirements. Difference between Health Insurance and Travel Insurance Health insurance and travel insurance are different types of insurance that serve various purposes. While health insurance is a risk management system that financially protects travellers from medical expenses, travel insurance protects travellers from both medical and non-medical trip-related expenses when travelling. As a company that offers both health insurance and travel insurance, while Niva Bupa offers health insurance with world-class international health coverage, travel insurance provides more significant coverage for non-medical risks as well, mitigating their financial impact and protecting travellers.  Travellers can refer to the following table for a clearer understanding of the differences between Health and Travel Insurance: Scope Health Insurance Travel Insurance What does it do? A comprehensive health insurance policy covers medical risks and expenses one might encounter in one's everyday life and certain critical illnesses during hospitalisation, outpatient care, and other times.    Unlike medical insurance, which compensates or reimburses only medical expenses, health insurance covers several other facets, including diagnostics and preventative care. Travel insurance provides financial protection from expenses incurred due to covered risks in the form of compensation or reimbursement when travelling.    This financial protection is offered in the form of coverage for medical risks, non-medical travel-related risks, and some miscellaneous risks. Extent of coverage The scope and extent of coverage for health insurance varies depending on the specific policy and the sum assured opted for. The scope and extent of coverage vary between different plans and policies; however, Niva Bupa offers three different plans with varying degrees of comprehensiveness to choose from for their policy. Who is it for? A health insurance policy is for anyone who wishes to mitigate the medical and surgical expenses they may incur when getting treatment.  A travel insurance policy is for individuals and groups planning to travel anywhere in the world and looking to secure their trip from unexpected expenses arising from travel-related risks. As foreign travel is expensive, the financial impact of these risks can be severe, but with travel insurance, travellers can explore the world with peace of mind. Does it work abroad? Typical health insurance policies do not work internationally and are only limited to domestic risks. However, certain specialised health insurance policies, such as Niva Bupa’s Aspire, offer coverage for medical treatments from anywhere in the world with its borderless benefit. Yes, travel insurance works anywhere in the world where the insurer offers the policy for. Niva Bupa provides international travel insurance coverage at over 190 destinations worldwide, enabling travellers to explore the world with confidence and peace of mind. Features of Travel Insurance in India As one of the leading travel insurance providers, Niva Bupa offers comprehensive and reliable travel insurance policies at competitive rates, enabling travellers to secure their trip and travel with confidence and peace of mind. The following are some of the key features of Niva Bupa Travel Insurance: Extensive coverage- Plans under travel insurance cover a diverse range of risks. These risks include trip delay, interruption, cancellation, loss of checked-in baggage, medical emergencies, personal accidents, medical evacuation, etc. Pre-existing disease coverage- Niva Bupa offers 100% pre-existing disease coverage for student travellers as an add-on, allowing them to study with peace of mind. Travellers with single-trip travel insurance policies are also covered for any medical emergency arising from pre-existing diseases for 5% of the total sum assured, up to a maximum of US $2500. No pre-policy check-up- Plans offered under TravelAssure require no pre-policy check-up, offering convenience and peace of mind when purchasing the policy. Simple and intuitive purchase process- Niva Bupa offers a simple and intuitive way to purchase policies directly from our website. Sum assured- Niva Bupa offers a total claim limit of up to US $500,000 for both single-trip policies and student travel policies. COVID-19 coverage- TravelAssure plan comes with coverage against hospitalisation expenses resulting from COVID-19. Hassle-free claims process- Niva Bupa offers cashless claims for medical expenses and compensation for loss borne due to other covered risks. Why Buy Travel Insurance Policy? As a traveller, there are several reasons why you should buy travel insurance to secure your trip. From medical risks to non-medical trip-related or miscellaneous risks, travellers can experience financial protection and travel with peace of mind when facing them. Some of the common reasons that make travel insurance necessary are: People are more prone to medical problems in a foreign land, be it within India or overseas, due to a number of factors, from changes in food habits to environmental reasons. Travel insurance helps tackle such circumstances with ease. It protects against baggage losses at airports, theft, and travel scams in many tourist destinations. Travel insurance protects the policyholder in the event of flight delay or cancellation. It protects you in the event of natural calamities, man-made disasters, flight hijacking, etc. Student travellers can also opt for study interruption coverage in their travel plans. Travel insurance may cover fatalities and repatriation of mortal remains. Travel insurance is a mandatory requirement in more than 30 countries. It is a prerequisite for visa processing while travelling to these countries. When to Buy Travel Insurance? Travellers are typically advised to buy travel insurance immediately after booking their flight and reserving accommodation. This ensures that if, for certain covered reasons, your trip is cancelled, you can receive compensation for the non-recoverable travel and accommodation expenses paid in advance. In addition to this, as travel insurance does not go through sales or offer additional benefits even if you wait, it is thus directly beneficial to purchase the policy as soon as possible.  If you intend to embark on multiple trips for a set duration, such as within a year, you should buy a travel plan in advance to cover all the upcoming trips with an annual multi trip insurance. And even in the case of a single trip, buying a travel plan in advance is advisable. However, if you forget to secure your trip in time, Niva Bupa enables travellers to purchase the policy from anywhere at any time before starting their journey within just a few minutes and in as few as five steps.  So you can also buy travel plans at the last minute even if you miss out on crucial coverages and benefits. Who Should Buy a Travel Insurance Plan? While it is mandatory to have travel insurance before visiting certain countries, people travelling abroad to any country, in general, should buy a travel insurance plan to secure their trip. Along with this, it is advisable for the following travellers to buy a travel insurance plan:  Individual travellers and families  Senior citizens - because of their higher medical susceptibility  Corporate travellers can cover their travel risks while travelling on behalf of their organisation  Students can buy student-specific travel plans with longer validity  People travelling in groups can insist on the purchase of travel insurance by their tour organiser Domestic travellers can buy travel plans designed to cover travel risks within the country How to Compare Travel Insurance Online? As more and more insurance providers have started offering travel insurance online, including listing all the key features and benefits of opting for them, it has become easier to compare and purchase the best policy for your specific needs. Here are some of the key features to compare between different plans online:   Travel destination:  Not all insurers offer coverage for every destination. Consider your travel destination to understand what coverages you may require and assess whether a particular insurer covers it.  Scope and extent of coverage: Consider a policy that is wide in scope and extent of coverage.  Medical coverages: Compare the medical coverages offered to determine the minimum and optimal coverage needed for your policy.  Trip-related coverages: Consider the non-medical trip-related coverages and ensure having them for the best protection.  Total sum assured:  Niva Bupa offers a sum assured up to $500,000, so travellers must consider this and tailor it to their needs.  Premium price: Compare the premium prices to match your budget and needs. Exclusions:  In addition to what is covered within the scope and extent of coverage, it is also essential to consider what is not covered to avoid any last-minute hassles with claim rejection. Claim process:  Assess the claims process to avoid any last-minute hassles when attempting to claim settlement. Reliability of the insurer: It is imperative to assess an insurer's reliability before choosing a policy to avoid lacking protection when claiming settlement. Why choose Niva Bupa Travel Insurance Policy? As one of India's leading travel insurance providers, Niva Bupa offers unique and comprehensive policies that cover the diverse needs of Indian travellers at cost-effective prices. With coverage for dozens of risks, Niva Bupa’s policies offer cashless claims for medical expenses and compensation for other covered incidents, enabling a hassle-free claims experience.  With over 190 destinations covered today, Niva Bupa has an ever-expanding list of covered destinations, ensuring that your travels are safeguarded wherever you go. Not just this, with Niva Bupa, you can buy the right policy to secure your trip within minutes from anywhere at any time, so take charge of your journey and secure it with travel insurance online from Niva Bupa and get the best coverage against numerous risks.  Advantages of Niva Bupa Travel Insurance Niva Bupa is one of the leading travel insurance providers in India. Its comprehensive policies are affordable and reliable, so travellers can significantly benefit from them. Here are some advantages of opting for international travel insurance from Niva Bupa. Coverage of up to $500,000 Niva Bupa offers travellers a total sum of up to $500,000 for single-trip and student travel insurance. This means that travellers can claim settlement for up to $500,000 when faced with certain risks depending on the specific plan opted for. Pre-existing disease covered up to 5% of the sum insured, maximum of up to $ 2,500 Niva Bupa provides pre-existing disease coverage to travellers of 5% of the total sum assured or a maximum of $2500 in case of an emergency. If the traveller is a student, they can choose complete pre-existing disease coverage when purchasing the policy for coverage up to the sum assured.  COVID-19 coverage up to the sum insured While the world has overcome the COVID-19 pandemic on a global scale, there are still traces of the impacts of COVID-19 in certain countries. Each Niva Bupa plan comes with COVID-19 coverage up to the sum assured to offer the best protection to travellers.  Coverage for over 190 destinations worldwide Niva Bupa provides comprehensive international travel insurance coverage in over 190 destinations, enabling travellers to explore the world with peace of mind. Tailor-made policies for Asia Pacific (APAC), worldwide excluding the USA and Canada, and worldwide including the USA and Canada Niva Bupa offers tailored coverages and benefits based on the region the traveller is planning to visit. These include specific additional coverages and higher sum assured to best cater to travellers' needs. Competitive premiums in the market Niva Bupa offers some of the market's most competitive premiums, enabling travellers to secure their trip with confidence and peace of mind without breaking the bank. Discount of 10% for two or more members in a policy Niva Bupa offers groups of travellers with more than two individuals a discount of 10% on the overall premium, thus enabling convenient, efficient, and affordable coverage for all travellers in a single policy.  What’s Covered Under Niva Bupa's Travel Insurance? Niva Bupa offers extensive coverage in the form of compensation or reimbursement for dozens of risks, ranging from medical risks such as medical emergencies and personal accidents to missed connections and trip cancellations. Here are some of the key coverages one can expect from Niva Bupa’s TravelAssure policy.  Delay or loss of checked-in baggage: This travel insurance coverage offers reimbursement for significant delay or loss of checked-in baggage. Missed connecting flight: This coverage under travel insurance reimburses you for the extra accommodation and travel costs to reach the next destination if you miss a pre-booked connecting flight due to a late primary flight. Loss of Passport: This coverage reimburses you for the cost of applying for a new passport if the original is lost. Dental Treatment: This travel insurance coverage reimburses pain-relieving dental treatment under anaesthesia. However, this coverage is only applicable in cases of emergency, such as accidents and sudden acute pain. Trip delay, cancellation, interruption: These three separate coverages offer reimbursement for part of the travel and accommodation costs if your travel is delayed, cancelled, or interrupted due to certain conditions mentioned in the policy document. Medical emergency (hospitalisation): This travel insurance coverage offers cashless claims and reimbursement for the cost of medical treatment. Emergency outpatient treatment: This travel insurance covers and reimburses any emergency treatment under OPD. Medical evacuation: This coverage offers cashless claims and reimburses the cost of transferring patients from one hospital to another if the primary hospital does not provide appropriate care Emergency trip extension: If the trip is extended due to certain exceptional circumstances, this coverage offers an extension of the policy up to $20,000 Personal accident: This coverage offers a payout of up to the benefit limit as per the selected plan for accidental death or disability. Repatriation of mortal remains: This coverage reimburses you for the cost of transporting the traveller's mortal remains or the cost of cremation in the city/country of death. Niva Bupa offers these coverages bundled in curated plans for each country, offering specific coverage options. When considering these plans, remember that some covers may require specific criteria to claim them, so it is advised to properly read the policy document to understand whether you fulfil these criteria. What’s Not Covered Under Niva Bupa's Travel Insurance? Exclusions are specific risks and activities that an insurance provider does not cover. If a policyholder incurs a loss due to participating in such activities, their claim might be rejected. These exclusions are clearly stated under the travel insurance policy document and thus need to be considered when purchasing a policy. By considering these exclusions, travellers can accurately plan their journeys and take adequate measures to protect themselves from these risks. Here is a list of activities and risks which Niva Bupa does not cover. These include treatment for any injury or illness resulting from nuclear or radiological emissions, war or rebellion, and specific acts of terrorism. Active participation in military exercises, war games, or engagement with the enemy. Any loss or injury due to committing or attempting to breach the law with criminal intent Expenses for cosmetic or plastic surgery or any treatment to change appearance, including obesity or weight control programs. Unless in certain circumstances as listed in the policy document Maternity expenses Non-prescription or unproven drugs or treatments The provision of fitting of hearing aids, spectacles or contact lenses, including optometric therapy, any treatment, and associated expenses for alopecia, baldness, wigs, or toupees, medical supplies including elastic stockings, diabetic test strips, and similar products. If the insured person is travelling against the advice of a Doctor or is receiving or on a waiting list for specified medical treatment Death, injury, medical condition, or disability resulting from suicide or attempted suicide, self-inflicted wound or illness, consumption of alcohol or drugs, and depression. Countries with travel restrictions for Indians. Medical Tourism Damages due to adventure sports unless part of coverage Expenses related to any admission specifically for diagnostics and evaluation purposes that are not related or incidental to the current diagnosis and treatment. However, remember that this list is just a summary of the exclusions, and the policyholder needs to refer to the policy document for the complete list. It is vital to check the policy document before participating in an activity that can result in financial loss or harm policyholders’ well-being. Eligibility Criteria for Travel Insurance The various eligibility criteria for Niva Bupa's TravelAssure plan include: Adults should be between the ages of 18 and 70. Dependent children should be at least one day old and are covered until the age of 25. Travellers must possess and furnish mandatory documents like copies of passports, visas, income proof, and other relevant papers. Documents required for Travel Insurance Policy As a traveller planning to secure their trip with travel insurance, it is imperative to assess and provide several documents required for purchasing the policy. Here is a list of some of the essential documents needed to buy travel insurance online from Niva Bupa: Passport details of all of the travellers Travel and accommodation details Aadhar card PAN Card Medical declaration Proof of finances (for student policies) Programme details (for student policies) How to Buy Travel Insurance Plan Online? If you want to buy the right travel insurance for your needs, you can do so in several ways. You can purchase the policy offline through an agent, online through a broker, or directly from an insurance provider like Niva Bupa. However, while buying travel insurance from each option is possible, in recent years, insurers like Niva Bupa have made the process of purchasing travel insurance online not only simple and convenient but also paperless and cashless.  This allows travellers to secure their trip from anywhere at any time, and not just this, but by following just a few easy steps, you can purchase your desired policy within just minutes. If you are looking to buy travel insurance from Niva Bupa, one of the leading insurance providers in India, these are the steps you must follow.  To apply online, you will need to share certain essential information and submit relevant documents to purchase the policy hassle-free. These details include travel destination, trip duration, number of travellers, type of insurance you are looking for, sum assured, the desired plan, and any add-ons if needed. In addition to this, it is also essential to fill out the medical declaration form and submit valid documents and proofs as necessitated when purchasing the policy. Follow the given steps to buy travel insurance online from Niva Bupa: Visit the Niva Bupa website and click Travel Insurance in the header. On that page, you can use the drop-down menu to select your travel destination, the departure and return dates, and your phone number. After clicking on view plans, you can input the traveller’s details and continue to check the destination-specific plans for your travel destination.  Review and select the appropriate plans, change the sum insured to the amount you want to insure for your trip and choose any add-ons. After this, click “Next” and fill out the relevant information and medical declaration to purchase the plan of your choice. Considerations Before Buying Travel Insurance Policy Before purchasing any policy, travellers must consider several factors to determine and avail themselves of the best coverage for their specific needs. These factors vary from personal details to the destination you would be travelling to. Some of the factors that you need to consider before buying a travel insurance policy are: Duration: Travellers should consider how long they will be travelling for and consider opting for a plan with higher coverage if the duration is relatively long. The longer a trip is, the more susceptible a traveller becomes to certain risks. In addition to this, if travellers have several trips planned in a year, opting for multi-trip insurance is beneficial as it is cheaper and more convenient than opting for a policy every time.  Nature of the Trip: Choose the plan according to the nature of your trip and what you will be doing there. Travellers planning to go skydiving should only do so after first securing their trip with adventure sports coverage, which is an exclusion (i.e. not covered) unless chosen as an add-on.  Sum Assured: Estimate your travel risk and finalise your sum assured accordingly. The sum assured is the total amount you can claim, depending on the specific policy opted for. Optional Covers: Review the list of available add-on covers and select judiciously based on your specific needs. Selecting unnecessary covers will only escalate the premium. Exclusions: There are several specified circumstances or conditions under which travel insurance is not applicable and is considered not covered. Always familiarise yourself with the exclusions before buying the travel plan to avoid any last-minute hassles. How to Calculate Travel Insurance Premiums Online? Travellers looking to secure their trip with travel insurance online can easily calculate the premium prices and determine how much a policy will cost. To do so, a traveller should simply visit the Niva Bupa website and follow the process to purchase the policy. I.e. Fill in the trip details traveller details, choose one of the three plans, select a sum assured, and add any add-ons if applicable. Once these details are added, Niva Bupa will calculate the premium and allow you to preview how much the policy will cost for your trip. Factors That Affect Your Travel Insurance Premium As a traveller planning to buy travel insurance to secure your trip, it is essential to note that several factors impact the premium of travel insurance. Here are some of the key factors which affect travel insurance premiums: Trip duration The duration of a trip significantly impacts the travel insurance premium as it is directly correlational to the risk a traveller might be exposed to, thus leading to an increase in premium.  Trip destination Insurers like Niva Bupa divide the world into several regions to offer the best policy for travellers based on their needs. These regions are Asia Pacific, Worldwide excluding the USA and Canada, and Worldwide including USA and Canada. Based on this division, travellers can select a higher sum assured and get additional coverage when visiting a particular destination. Due to this, the premium cost charged for the policy also differs between various countries. Sum assured The higher the sum assured, the higher the premium charged. This is because the premium correlates with the sum assured or the total coverage a policy offers. Plan selected Whether you opt for a lite, basic, or comprehensive plan, the premium for the policy increases as the degree of coverage increases. Type of policy opted for  Travellers can also witness a difference in premiums depending on the policy type. For example, Niva Bupa offers single-trip and student travel insurance as part of its policies. The premium for travellers opting for student travel insurance will differ from that for single-trip travel insurance. Any particular add-ons opted for Travel insurance policies, such as student travel insurance, have specific add-ons for travellers to choose from based on their specific needs. For example, student travellers can opt for complete pre-existing disease coverage, which can increase the premium. Age of the travellers In certain cases, the age of the traveller also significantly impacts the premium, as older travellers, such as senior citizens, might be more susceptible to certain risks, leading to higher premiums. What the traveller would do on the trip In some instances, such as when a traveller is going to take part in dangerous activities such as adventure sports, the premium will be higher compared to others. Number of travellers Niva Bupa offers groups of travellers with more than two individuals a 10% discount on the overall premium, thus reducing the premium cost. How to Lower Your Travel Health Insurance Premium It is important for travellers to note that it is not possible to unilaterally lower their trip premium; however, depending on the specific choices they make, they can opt for a plan that costs less.  Select a lower sum assured: Select a lower sum assured to reduce your premium. Travel with more travellers: Travelling with more than two travellers in the same plan offers a 10% discount on the premium. Consider the travel duration: The longer the policy period, the higher the premium cost is. Consider the destination: Some destinations have a higher premium cost than other regions. How to Claim Niva Bupa Travel Insurance Travellers who need to file a claim settlement request for travel insurance can do so easily with Niva Bupa. There are several ways to request a claim settlement from Niva Bupa. Refer to the following methods for a quick and hassle-free claim process. To file a travel insurance claim, you first need to contact your insurer, Niva Bupa.  You may also contact the global third-party administrator if you are travelling overseas. You can raise a claim for travel insurance online, through mail, or even physically. You can do so both while overseas or when you return to India. You must submit a duly filled claim form along with the required documents based on the type of claim—for example, loss of baggage, trip cancellation, medical emergency, or death. Besides this, one can make two types of claims in the case of a medical emergency.  Cashless claim Niva Bupa is partnered with Europ Assistance, a global third-party administrator, to provide cashless claims to hospitals and healthcare centres worldwide. The customer intimates the claim to Europ Assistance via a toll-free number or email.  The TPA-Europ Assistance will contact the customer and provide them with travel insurance details. Europ Assistance will then initiate the GOP (Guarantee of payment) process with the hospital where the customer will receive treatment. Europ Assistance will request the documents from the hospital or the customer and, after assessing the claim, send them to Niva Bupa for approval/rejection/query/investigation. Our medical team will approve the claim by e-mail. The GOP will be released to the hospital as per the amount claimed. The hospital will contact the Europ Assistance team if any additional amount is required. At discharge, documents will be sent to Europ assistance and approved accordingly. After discharge, the hospital will send the documents to Europe Assistance for settlement to the hospital. Reimbursement Claim   Intimation of Reimbursement Claim Channel Phone (with Call back Facility) +91 (0) 22 6787 2092 Email Address nivabupa@europ-assistance.in Postal Address to Send Physical Documents Europ Assistance India Pvt. Ltd. 7th Floor, Star Hub,  Bldg No. 2  Near ITC Maratha Hotel, Sahar, Andheri (East), Mumbai-400 059. +91 22 6787 2092 Basic Information at the time of Claim intimation is to be provided by the customer Name of the insured Policy No. Date of Birth Email Address Local Contact No. Claim related information Nature of loss (Brief narration of loss) The coverage under which the claim is sought Claim Amount Confirmation Claim amount with detailed bifurcation Important Note: All claims are indemnity; only upon receipt of complete documents along with bills and receipts of payment will claim admissibility be decided; hence, all claim-related supporting documents must be submitted after the claim is registered. For the documents required, please refer to the policy wording document and the claim procedure, which will be sent after a claim is registered. Important Note: All claims are processed according to the policy benefits, terms and conditions. The final decision on any claim will be made after all the documents are received and assessed. Mandatory Documents Required for Reimbursement Claims Claim form KYC Cancelled cheque of the proposer Discharge summary  Final bill along with break up Payment receipt All investigation reports Steps to Renew Travel Insurance Online/Offline Travellers should know that they cannot renew a single-trip travel insurance policy; instead, they can purchase a new policy, which can be done from anywhere at any time within minutes. On the other hand, travellers opting for multi-trip travel insurance can renew their policy using the same method as purchasing a new policy the first time. So, if you wish to renew your travel health insurance, you can easily purchase the same policy again from Niva Bupa thus offering convenience and peace of mind. List of Countries Where Travel Insurance is Mandatory In 2024, over 30 countries, including those in the Schengen Area, have mandated travel insurance as a criterion for entry. From making it a requirement for a visa to having it checked during customs and immigration, there are several ways by which these countries require travel insurance from Indians. Here is a list of some of the countries mandating travel insurance for Indians: Myths on Travel Insurance As with any other insurance policy, travellers looking for travel insurance often encounter several myths and misunderstandings about travel insurance, which can lead to confusion and opting for an improper policy with lacking coverage as a compromise, furthering the myths. Here are some common myths that travellers often face when researching travel insurance and explanations for why they are myths.  I don’t need travel insurance for a short trip This is false, as risks do not wait for anything or anyone to cause financial hardships. So there is no lesser risk of unnecessary expenses by travelling for three days rather than five. From trip cancellation to loss of checked-in baggage, any risk that can impact travellers on a longer trip is also applicable to travellers on a shorter trip. I am fit and healthy and do not require travel insurance Travel insurance covers medical risks and non-medical trip-related risks, which can lead to significant financial loss and a negative travel experience if not considered or taken precautions for. Travel insurance is expensive India has some of the cheapest travel insurance plans while offering similar coverage. Not only does Niva Bupa offer coverages for up to $500,000, but the premium charged for it is competitive and affordable for most travellers. My claims will be denied This depends on the specific plan, insurer, and particular incident. Travellers should know that leading insurers like Niva Bupa do everything to ensure quick, efficient, and hassle-free claim settlement, but it is important to know and follow the procedure to have your genuine claims settled. I will need to buy different plans for each member of my family That is not true; insurers like Niva Bupa make it very convenient for travellers to secure their family members with the same policy, making the process much more convenient and cost-effective. If you travel with two or more people, you can also get a 10% discount on the premium. Travel insurance covers everything  Travellers should know that travel insurance does not cover everything, and every policy has certain limitations, exclusions, and conditions for eligibility. It is essential to understand these limitations and act accordingly. Travel insurance does not cover senior citizens This is not true. While different insurers have varying maximum age limits, they offer coverage for seniors up to the age of 70. With Niva Bupa, senior citizens can avail themselves of comprehensive travel insurance. COVID-19 Coverage In 2024, most of the world has overcome COVID-19 on a global scale, reducing the scope and impact of these risks. There has been a significant drop in the number of active cases, as recorded by the WHO, with around 147,000 new cases reported from the 1st to the 28th of April, a 48% drop from the previous month, from the 4th to the 31st of March. However, despite this reduction, travellers must consider these risks when travelling abroad.  In the past, due to the global scale of the COVID-19 pandemic and the requirements set by many countries, travel insurance with COVID-19 coverage became mandatory for travellers visiting certain countries. However, as the scope and extent of the global pandemic has subsided, so have the requirements set up by many countries requiring travel insurance with COVID-19 coverage.  Despite this change, Niva Bupa’s TravelAssure policy still offers COVID-19 hospitalisation coverage up to the sum assured. Accordingly, if you are infected or test positive for COVID-19 during your overseas stay, the travel health insurance plan will bear the cost of your treatment and hospitalisation. In almost all countries, a COVID-19 infection leads to the applicability of strict isolation rules, and it is addressed as per their SOP when detected. Therefore, adequate COVID-19 coverage can be handy in times of need. Get a Quote in 2 minutes! Get your Travel insurance Policy Today +91 By clicking Get Quote, you authorize Niva Bupa to Call/SMS/Whatsapp on your registered mobile overriding DNCR. Get Quote Get the most value from TravelAssure Ultricies purus fringilla augue augue eget accumsan pulvinar. Extend Policy Period and Coverage Hassle-free Claims Extension of the Policy Period for a Single Trip Policy Extension of the Policy Period for a Single Trip Policy In order to extend the policy, policyholders can apply for an extension by contacting Niva Bupa’s customer care center or online by paying their premium and submitting all the required documents. This must be done before the policy expires. Once our team has verified the information, they will grant permission for an extension. Customers can also extend the geographical coverage of their policy by paying an extra premium. Contact Details for extending coverage Niva Bupa Health Insurance Contact No: 1860-500-8888; Fax No.: 011-41743397 Customer Service Portal - Insta Assist (https://rules.nivabupa.com/customer-service/) Claim Settlement For claim settlement, you can either contact us or our global TPA. You can also file a claim once you are back in India Contact Details For Registering Claim Europ Assistance: 24*7 Emergency Contact for +91 22 6787 2092 Email address : nivabupa@europ-assistance.in Niva Bupa Health Insurance Contact No: 1860-500-8888; Fax No.: 011-41743397 Customer Service Portal - Insta Assist (https://rules.nivabupa.com/customer-service/) Hospitalisation Standout Features Add-on Features Exclusions In-Patient Care Get cashless coverage overseas for hospitalisation expenses for all insured members Hospital Cash Daily benefit in case of hospitalisation of insured. Maternity and New Born Coverage Coverage is available for maternity expenses and new born baby as per terms and conditions of the policy. Trip Cancellation Coverage for financial loss incurred due to cancellation of trip before its onset up to $ 1,000 Dental treatment Coverage of medical expenses for dental treatment up to $ 500 Coverage of Pre-existing diseases Treatment for pre-existing diseases are covered as per terms and conditions of the policy Loss of Passport Covers expenses for obtaining duplicate or fresh passport Loss or Delay of check-in baggage Coverage for loss/delay of accompanying checked in baggage Missed Connection Coverage for travel cost if you missed a pre-booked onward connection due to scheduled common carrier not running on its published timetable Medical Evacuation The policy will reimburse the cost of the transportation of the Insured Person from a Hospital to the nearest facility which is prepared to admit the Insured Person and provide the necessary medical services Complete Pre-existing disease cover Pre-existing diseases will be covered up to sum insured of 'emergency inpatient medical treatment' after opting this cover. This cover is available only for people who are traveling overseas on student visa for full time college or school education with policy term equal to or more than 12 months. Exclusions 1: Treatment for any Injury or Illness resulting directly or indirectly from nuclear, radiological emissions, war or war like situations (whether war is declared or not), rebellion (act of armed resistance to an established government or leader), acts of terrorism 2: Your participation in any naval, military or air force operations whether in the form of military exercises or war games or actual engagement with the enemy, whether foreign or domestic. 3: Expenses for treatment directly arising from or consequent upon any Insured Person committing or attempting to commit a breach of law with criminal intent (Code-Excl10) 4: Obesity or any weight control program. 5: Maternity Expenses (Code-Ecxl18) 6: Medical treatment expenses traceable to childbirth (including complicated deliveries and caesarean sections incurred during hospitalisation) except ectopic pregnancy; 7: Expenses towards miscarriage (unless due to an Accident) and lawful medical termination of pregnancy during the Policy Period. 8: Unproven Treatments (Code-Excl16)- Expenses related to any unproven treatment, services and supplies for or in connection with any treatment. Unproven treatments are treatments, procedures or supplies that lack significant medical documentation to support their effectiveness. 9: The provision or fitting of hearing aids, spectacles or contact lenses including optometric therapy, any treatment and associated expenses for alopecia, baldness, wigs, or toupees, medical supplies including elastic stockings, diabetic test strips, and similar products. 10: Non-prescription drugs or treatments 11: If the Insured Person is travelling against the advice of a Doctor or is receiving or on a waiting list for specified medical treatment. 12: Any claim for your death, injury, medical condition or disability resulting from; 13: your suicide or attempted suicide or wilfully self-inflicted injury or illness; or 14: your consumption of alcohol or drugs or substance abuse 15: depression 16: Any claim for an incident that results from your involvement in any unlawful activities or violation of operating/safety guidelines published by the service provider contracted by you. 17: Any claim originating in a country against whom Indian government has imposed travel restrictions, or any country which has imposed such restrictions against citizens of India 18: Any claim where trip was specifically planned for the purpose of availing treatment of an existing medical condition (Medical tourism) 19: Any claim for an incident which happens during the trip that results from taking part in any adventure sports unless specifically covered 20: Expenses for cosmetic or plastic surgery or any treatment to change appearance unless for reconstruction following an Accident, Burn(s) or Cancer or as part of medically necessary treatment to remove a direct and immediate health risk to the insured. For this to be considered a medical necessity, it must be certified by the attending Medical Practitioner (Code- Ecxl08); 21: Investigation & Evaluation- Code- Excl04 22: Expenses related to any admission primarily for diagnostics and evaluation purposes only 23: Any diagnostic expenses which are not related or not incidental to the current diagnosis and treatment Frequently Asked Questions Why Do I Need Travel Health Insurance? As a traveller planning an international trip, travel health insurance is an integral investment that must be considered for every journey, from offering financial protection in the form of compensation or reimbursement for dozens of covered risks to enabling quality treatment at a hospital. In addition to this, at least 30 countries mandate travellers to have travel health insurance as a requirement for entry. Can I buy travel insurance after departure? No, while travellers can buy travel insurance to secure their trip up to boarding their flight, it is not possible to do so once the traveller has started on their journey. Travellers looking for international insurance for travel should typically get insurance as soon as they book their flight tickets and confirm accommodation. However, if for some reason their flight is delayed, it is possible to buy the policy from anywhere at any time before starting on their journey.  What is a pre-existing condition for travel Insurance? A pre-existing condition is a pre-diagnosed ailment or condition that a traveller is already aware of before getting a policy. While travellers do not need to go through a pre-policy check-up to avail of travel insurance, it is still mandatory to share a medical declaration with any pre-existing conditions when purchasing the policy. It is imperative to declare any pre-existing diseases and conditions when purchasing the policy to avoid claim rejection if an already known ailment is the reason for the loss. When is the best time to purchase a travel insurance policy? The best time to purchase travel insurance is as soon as you book your flight tickets and make hotel reservations. That is because, from the moment you buy the policy, you can avail of coverages such as trip delay, trip cancellation, missed connection, and several others that will protect you from the financial consequences of these risks. While there is no benefit to purchasing travel insurance later, it makes all the difference when buying policies sooner rather than later.  Do I need to buy travel insurance for short trips as well? Yes, travel insurance for international travel is recommended regardless of the duration of a specific trip. While the potential risk increases the longer a particular trip is, that does not mean that short trips are immune from them. So, regardless of the length of the journey, travellers need to consider these risks and opt for the right travel insurance policy to secure themselves and their loved ones.  Is there a timeframe for filing a claim under my travel insurance? While there is no pre-determined timeframe for filing a claim under travel insurance, most policies require travellers to file a claim request within 30 to 90 days of the incident happening. While travellers facing medical expenses can potentially request a claim instantly through the TPA, it is important to file the claim earlier rather than later for other incidents and risks.  View More Trending Articles A Guide to Family Travel Insurance | Niva Bupa Know about family travel insurance, what is travel insurance, its types and benefits. Get your family travel insurance and have a safe journey. Understanding Travel Insurance Coverage: Benefits and Type Travel Insurance Coverage: Protect your next adventure with comprehensive travel insurance plans, offering peace of mind and financial security. Travel Insurance Myths Busted | Niva Bupa There are myths that are stopping people from buying travel insurance. To help you understand all about travel insurance, Niva Bupa has listed the common myths surrounding travel insurance plans. Read to know more. Why is Travel Insurance Necessary? | Niva Bupa Why is Travel Insurance Necessary? Discover the crucial reasons behind the importance of travel insurance for your safety and a worry-free trip. Download Resources Read more about the product through Product Brochure and Policy Wording documents TravelAssure Brochure Download the Brochure to understand TravelAssure better TravelAssure Policy Wordings Find out all you need to know about the plan here TravelAssure Proposal Form Download the form to avail the services of any of our network hospitals TravelAssure Claim Form Download the form to make hassle-free Claim Health Insurance - Health Insurance | Health Insurance Plans | Medical Insurance | Best Health Insurance Plans | Health Insurance Policy | Best Family Health Insurance | Best Mediclaim Policy | Best Health Insurance In India | Mediclaim | Best Health Insurance For Senior Citizens In India | Best Health Insurance | Health Insurance With OPD Cover | Mediclaim Insurance | Medical Insurance Plans | Best Health Insurance Company in India | Critical Illness Insurance | Personal Accident Insurance | Mediclaim Policy | Individual Health Insurance | Pregnancy Insurance | Maternity Insurance | Best Family Health Insurance plans in India | Best Health Insurance company | Family Health Insurance | Best Health Insurance plans for Senior Citizens | NRI Health Insurance | Mediclaim Policy for Family Health Insurance Schemes - Chief Ministers Comprehensive Health Insurance Scheme | Employee State Insurance Scheme | Swasthya Sathi Scheme | Pradhan Mantri Matru Vandana Yojna | Government Health Insurance Scheme | Dr. YSR Aarogyasri Scheme | Pradhan Mantri Suraksha Bima Yojna | Health Insurance Deductible | West Bengal Health Scheme | Third Party Administrator | Rashtriya Swasthya Bima Yojana | In Patient Vs Out Patient Hospitalization | Mukhyamantri Chiranjeevi Yojna | Arogya Sanjeevani Health Insurance | Copay Health Insurance | Cashless Health Insurance Scheme | Mukhyamantri Amrutum Yojna Travel Insurance - Travel Insurance | International Travel Insurance | Student Travel Insurance | Travel Insurance USA | Travel Insurance Canada | Travel Insurance Thailand | Travel Insurance Germany | Travel Insurance Dubai | Travel Insurance Bali | Travel Insurance Australia | Travel Insurance Schengen | Travel Insurance Singapore | Travel Insurance UK | Travel Insurance Vietnam | Malaysia Tourist Places | Thailand Visa for Indians | Canada Visa for Indians | Bali Visa for Indians | ECR and Non ECR Passport | Qatar Visa Status | USA Visa | Vietnam Visa | USA H1B Work Visa Become An Agent - Insurance Agent | Insurance Advisor | Licensed Insurance Agent | Health Insurance Consultant | POSP Insurance Agent Group Health Insurance - Startup Health Insurance | Commercial Health Insurance | Corporate insurance vs personal insurance | Group Personal Accident Insurance Top Hospitals - Best Hospitals in Chennai | Top Hospitals in Delhi | Best Hospitals in Gurgaon | Best Hospitals in India | Top 10 Hospitals in India | Best Hospitals in Hyderabad | Best Hospitals in Kolkata | Best cancer hospitals in Bangalore | Best cancer hospitals in Hyderabad | Best cancer hospitals in Mumbai | Best cancer hospitals in India | Top 10 cancer hospitals in India | Top 10 cancer hospital in Delhi | Multi Speciality Hospitals in Mumbai | Multi Speciality Hospitals in Chennai | Multi Speciality Hospitals in Hyderabad | Super Speciality Hospitals in Delhi | Best Liver Hospitals in Delhi | Best Liver Hospitals in India | Best Kidney Hospitals in India | Best Heart hospitals in Bangalore | Best Heart hospitals in India | Best Heart hospitals in Kolkata | Best Heart hospitals in Delhi Others - Top Up Health Insurance Policy | Corporate Health Insurance | Health Card | Section 80d of Income Tax Act | Ayushman Bharat | Health Insurance Portability | GoActive Family Floater Plan | Health Companion Family Floater Plan | Health Premia Family Floater Plan | Health Pulse Family Floater Plan | Health Recharge Family Floater Plan | Heartbeat Family Floater Plan | Money Saver Family Floater Plan | Saral Suraksha Bima Family Floater Plan | Senior Citizen Family Floater Plan | Super Saver Family Floater Plan | Corona Kavach Family Floater Plan | Hospital Cash Insurance | Cashless Health Insurance | Health Companion Price revision | Heartbeat Price revision | ReAssure Price revision | Gst Refund for NRI on Health Insurance Premium | Health Insurance Tax Deductible Health & Wellness - PCOD | PCOD Problems Symptoms | Stomach Infection | Stomach Infection symptoms | Home remedies for Stomach Infection | Hypertension definition | How to Control Sugar | Typhoid in Hindi | Blood sugar symptoms | Typhoid symptoms in hindi | Low sugar symptoms | ब्लड शुगर के लक्षण | pregnancy me kya kare | Open heart surgery cost | Blood infection symptoms in hindi | BP badhne ke karan | Khansi ka gharelu upay | Omicron | Coronavirus Health Insurance | Covid XE Variant | Norovirus Insurance Plans Health Insurance Health Insurance Plans Individual Health Insurance Plans Family Health Insurance Plans Critical Illness Insurance Plans Personal Accident Insurance Plans Mediclaim Policy Travel Insurance Best Health Insurance for Senior Citizens NRI Health Insurance Niva Bupa Store Locator Empower Health Plan SurroGuard Health Plan Oocyte Guard Health Plan About Niva Bupa About Us Contact Us Unclaimed Amount Media Center Public Disclosures Investor Relations Bupa True North Promoters Our Management Board of Directors ESG Policy Supplier Code Of Conduct Tools for You Articles Channel Payment Glossary Customer Grievance Redressal Careers Insure Care Auto Renewal Do Not Disturb Registry Download Center Balasore Train Accident ABHA Health ID Health Insurance Premium Calculator Legal IRDA Consumer Education Stewardship Policy Underwriting Philosophy Website Terms & Conditions Privacy Policy & Disclaimers Insurance Ombudsman Products Updated & Withdrawn List Installment Premium Product List List of Products Offered Whistleblower Policy Infosec Incident Reporting Log In Service Provider Agents Health Link Portal IRDAI Call Centre Feedback Survey Insurance Plans About Niva Bupa Tools for You Legal Log In www.nivabupa.com +91 11 41743397 1860-500-8888 3rd Floor, Capital Cyberscape, Sector 59, Gurgaon Insurance is a subject matter of solicitation. Niva Bupa Health Insurance Company Limited (formerly known as Max Bupa Health Insurance Company Limited) (IRDAI Registration Number 145, Category:Health), 'Bupa' and 'HEARTBEAT' logo are registered trademarks of their respective owners and are being used by Niva Bupa Health Insurance Company Limited (formerly known as Max Bupa Health Insurance Company Limited) under license. CIN: L66000DL2008PLC182918   Disclaimers: 3 Individual Trip : The premium is excluding taxes and for TravelAssure (Single Trip Lite) Plan, for a 0-40 year old individual travelling to Africa Ecxl South Africa & Mauritius or East  4 Family Trip : The premium is excluding taxes and for TravelAssure (Single Trip Comprehensive) Plan, for 2, 0-40 year old individuals travelling to Africa Ecxl South Africa & Mauritius for 1 Day  5 Student Travel :  The premium is excluding taxes and for TravelAssure (Student Travel Basic) Plan, for a 12-40 year old student travelling to South & Southeast Asia excl Malaysia and Singapore for a student travel upto 1 month   6 Cruize & Adventure :  The premium is excluding taxes and for TravelAssure (Cruize & Adventures) Plan, for a 0-40 year old individual travelling to Africa Ecxl South Africa & Mauritius for 1 Day  7 Honeymooners :  The premium is excluding taxes and for TravelAssure (Honeymoon) Plan, for 2, 0-40 year old individuals travelling to Africa Ecxl South Africa & Mauritius for 1 Day    BEWARE OF SPURIOUS / FRAUD PHONE CALLS! IRDAI is not involved in activities like selling insurance policies, announcing bonus or investment or premium. Public receiving such phone calls are requested to lodge a police complaint. Beware of misleading telephone calls from people posing as Niva Bupa officials, agents, Officials from ECI (Office of the Executive Council of Insurers) etc. and offering alluring benefits or sharing false information on your policy or on Niva Bupa. Niva Bupa shall not be responsible for any loss or damages whatsoever for any acts or omissions arising out of such spurious calls and all customers are advised to contact our customer care at 1860-500-8888 and verify any representations or promises made by any such spurious callers before acting upon the same.\u001b[00m\n",
            "\n",
            "\n",
            "\u001b[1m\u001b[95m# Agent:\u001b[00m \u001b[1m\u001b[92mSenior Support Representative\u001b[00m\n",
            "\u001b[95m## Final Answer:\u001b[00m \u001b[92m\n",
            "Hello Jayesh,\n",
            "\n",
            "Thank you for reaching out! I'm happy to assist you with getting travel insurance for your upcoming trip to San Francisco from February 22nd to 27th.\n",
            "\n",
            "To obtain travel insurance from Niva Bupa, you can easily purchase a policy directly from their website. Here's how you can get started:\n",
            "\n",
            "1. **Visit the Niva Bupa Travel Insurance page**: Go to [Niva Bupa Travel Insurance](https://www.nivabupa.com/travel-insurance.html).\n",
            "\n",
            "2. **Fill in your trip details**: You will need to provide details about your travel destination (San Francisco), departure and return dates (February 22nd to 27th), and the number of travelers.\n",
            "\n",
            "3. **Choose a plan**: Niva Bupa offers different travel insurance plans tailored to suit various needs. You can select from individual, family, or even student travel policies, depending on your preferences.\n",
            "\n",
            "4. **Complete the purchase**: Once you have selected the appropriate plan, fill in your details, and the payment will complete your purchase.\n",
            "\n",
            "Regarding your question about trip cancellation: Yes, Niva Bupa’s travel insurance policy includes coverage for trip cancellation. This coverage helps reimburse you for financial losses incurred due to the cancellation of your trip before its onset, allowing you to have peace of mind.\n",
            "\n",
            "In summary, not only can you secure your travel with Niva Bupa Travel Insurance, but you also have the option to protect your investment in the event of unforeseen cancellations.\n",
            "\n",
            "If you require further assistance or have any additional questions, feel free to ask. Safe travels, and I hope you have a great conference in San Francisco!\n",
            "\n",
            "Best regards,\n",
            "[Your Name]\n",
            "Niva Bupa Support Team\n",
            "```\u001b[00m\n",
            "\n",
            "\n"
          ]
        },
        {
          "name": "stderr",
          "output_type": "stream",
          "text": [
            "/Users/jayeshbhadane/Desktop/Vettura_AI/GenAI/lib/python3.12/site-packages/fireworks/client/image_api.py:131: PydanticDeprecatedSince20: Pydantic V1 style `@validator` validators are deprecated. You should migrate to Pydantic V2 style `@field_validator` validators, see the migration guide for more details. Deprecated in Pydantic V2.0 to be removed in V3.0. See Pydantic V2 Migration Guide at https://errors.pydantic.dev/2.10/migration/\n",
            "  @validator(\"image_strength\", pre=True, always=True)\n",
            "/Users/jayeshbhadane/Desktop/Vettura_AI/GenAI/lib/python3.12/site-packages/fireworks/client/image_api.py:139: PydanticDeprecatedSince20: Pydantic V1 style `@validator` validators are deprecated. You should migrate to Pydantic V2 style `@field_validator` validators, see the migration guide for more details. Deprecated in Pydantic V2.0 to be removed in V3.0. See Pydantic V2 Migration Guide at https://errors.pydantic.dev/2.10/migration/\n",
            "  @validator(\"step_schedule_start\", \"step_schedule_end\", pre=True, always=True)\n"
          ]
        },
        {
          "name": "stdout",
          "output_type": "stream",
          "text": [
            "\u001b[1m\u001b[95m# Agent:\u001b[00m \u001b[1m\u001b[92mSupport Quality Assurance Specialist\u001b[00m\n",
            "\u001b[95m## Task:\u001b[00m \u001b[92mReview the response drafted by the Senior Support Representative for XYZ Insurance's inquiry. Ensure that the answer is comprehensive, accurate, and adheres to the high-quality standards expected for customer support.\n",
            "Verify that all parts of the customer's inquiry have been addressed thoroughly, with a helpful and friendly tone.\n",
            "Check for references and sources used to  find the information, ensuring the response is well-supported and leaves no questions unanswered.\u001b[00m\n",
            "\n",
            "\n",
            "\u001b[1m\u001b[95m# Agent:\u001b[00m \u001b[1m\u001b[92mSupport Quality Assurance Specialist\u001b[00m\n",
            "\u001b[95m## Final Answer:\u001b[00m \u001b[92m\n",
            "Hello Jayesh,\n",
            "\n",
            "Thank you for reaching out! I'm happy to assist you with getting travel insurance for your upcoming trip to San Francisco from February 22nd to 27th.\n",
            "\n",
            "To obtain travel insurance from Niva Bupa, you can easily purchase a policy directly from their website. Here’s how you can get started:\n",
            "\n",
            "1. **Visit the Niva Bupa Travel Insurance page**: Go to [Niva Bupa Travel Insurance](https://www.nivabupa.com/travel-insurance.html).\n",
            "\n",
            "2. **Fill in your trip details**: You will need to provide details about your travel destination (San Francisco), departure and return dates (February 22nd to 27th), and the number of travelers.\n",
            "\n",
            "3. **Choose a plan**: Niva Bupa offers different travel insurance plans tailored to suit various needs. You can select from individual, family, or even student travel policies, depending on your preferences.\n",
            "\n",
            "4. **Complete the purchase**: Once you have selected the appropriate plan, fill in your details, and the payment will complete your purchase.\n",
            "\n",
            "Regarding your question about trip cancellation: Yes, Niva Bupa’s travel insurance policy includes coverage for trip cancellation. This coverage helps reimburse you for financial losses incurred due to the cancellation of your trip before its onset, allowing you to have peace of mind.\n",
            "\n",
            "In addition to trip cancellation, Niva Bupa also provides coverage for other important aspects such as medical emergencies, lost luggage, and travel delays, ensuring that you are protected throughout your trip.\n",
            "\n",
            "If you require further assistance or have any additional questions, feel free to ask. Safe travels, and I hope you have a great conference in San Francisco!\n",
            "\n",
            "Best regards,  \n",
            "[Your Name]  \n",
            "Niva Bupa Support Team\u001b[00m\n",
            "\n",
            "\n"
          ]
        }
      ],
      "source": [
        "inputs = {\n",
        "    \"customer\": \"XYZ Insurance\",\n",
        "    \"person\": \"Jayesh Bhadane\",\n",
        "    \"inquiry\": \"Hey I am travelling to San Francisco for a conference from 22nd to 27 February. How can I get a travel insurance? Can I cancel if my trip gets cancelled?\"\n",
        "}\n",
        "result = crew.kickoff(inputs=inputs)"
      ]
    },
    {
      "cell_type": "markdown",
      "metadata": {
        "id": "fX4Z6BDYzkvU"
      },
      "source": [
        "- Display the final result as Markdown."
      ]
    },
    {
      "cell_type": "code",
      "execution_count": null,
      "metadata": {
        "colab": {
          "base_uri": "https://localhost:8080/",
          "height": 446
        },
        "height": 47,
        "id": "fTVbxpzyzkvU",
        "outputId": "c3c187ad-ca36-4e19-cd99-b11c310d5863"
      },
      "outputs": [
        {
          "data": {
            "text/markdown": [
              "Hello Jayesh,\n",
              "\n",
              "Thank you for reaching out! I'm happy to assist you with getting travel insurance for your upcoming trip to San Francisco from February 22nd to 27th.\n",
              "\n",
              "To obtain travel insurance from Niva Bupa, you can easily purchase a policy directly from their website. Here’s how you can get started:\n",
              "\n",
              "1. **Visit the Niva Bupa Travel Insurance page**: Go to [Niva Bupa Travel Insurance](https://www.nivabupa.com/travel-insurance.html).\n",
              "\n",
              "2. **Fill in your trip details**: You will need to provide details about your travel destination (San Francisco), departure and return dates (February 22nd to 27th), and the number of travelers.\n",
              "\n",
              "3. **Choose a plan**: Niva Bupa offers different travel insurance plans tailored to suit various needs. You can select from individual, family, or even student travel policies, depending on your preferences.\n",
              "\n",
              "4. **Complete the purchase**: Once you have selected the appropriate plan, fill in your details, and the payment will complete your purchase.\n",
              "\n",
              "Regarding your question about trip cancellation: Yes, Niva Bupa’s travel insurance policy includes coverage for trip cancellation. This coverage helps reimburse you for financial losses incurred due to the cancellation of your trip before its onset, allowing you to have peace of mind.\n",
              "\n",
              "In addition to trip cancellation, Niva Bupa also provides coverage for other important aspects such as medical emergencies, lost luggage, and travel delays, ensuring that you are protected throughout your trip.\n",
              "\n",
              "If you require further assistance or have any additional questions, feel free to ask. Safe travels, and I hope you have a great conference in San Francisco!\n",
              "\n",
              "Best regards,  \n",
              "[Your Name]  \n",
              "Niva Bupa Support Team"
            ],
            "text/plain": [
              "<IPython.core.display.Markdown object>"
            ]
          },
          "execution_count": 17,
          "metadata": {},
          "output_type": "execute_result"
        }
      ],
      "source": [
        "from IPython.displasy import Markdown\n",
        "Markdown(result.raw)"
      ]
    }
  ],
  "metadata": {
    "colab": {
      "provenance": []
    },
    "kernelspec": {
      "display_name": "GenAI",
      "language": "python",
      "name": "python3"
    },
    "language_info": {
      "codemirror_mode": {
        "name": "ipython",
        "version": 3
      },
      "file_extension": ".py",
      "mimetype": "text/x-python",
      "name": "python",
      "nbconvert_exporter": "python",
      "pygments_lexer": "ipython3",
      "version": "3.12.7"
    }
  },
  "nbformat": 4,
  "nbformat_minor": 0
}
